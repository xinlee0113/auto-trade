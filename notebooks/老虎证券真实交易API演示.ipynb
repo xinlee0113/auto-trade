{
 "cells": [
  {
   "cell_type": "markdown",
   "metadata": {},
   "source": [
    "# 老虎证券真实交易API完整演示\n",
    "\n",
    "本Notebook演示老虎证券API的所有主要功能，包括真实交易操作。\n",
    "\n",
    "⚠️ **重要提醒**: 本演示包含真实交易操作，请谨慎使用！\n",
    "\n",
    "## 目录\n",
    "1. [环境配置与连接测试](#1-环境配置与连接测试)\n",
    "2. [行情数据接口](#2-行情数据接口)\n",
    "3. [账户信息接口](#3-账户信息接口)\n",
    "4. [真实交易接口](#4-真实交易接口)\n",
    "5. [期权数据接口](#5-期权数据接口)\n",
    "6. [推送服务接口](#6-推送服务接口)\n",
    "7. [高级功能演示](#7-高级功能演示)"
   ]
  },
  {
   "cell_type": "markdown",
   "metadata": {},
   "source": [
    "## 1. 环境配置与连接测试"
   ]
  },
  {
   "cell_type": "code",
   "execution_count": 2,
   "metadata": {
    "execution": {
     "iopub.execute_input": "2025-08-12T16:10:17.457998Z",
     "iopub.status.busy": "2025-08-12T16:10:17.457084Z",
     "iopub.status.idle": "2025-08-12T16:10:17.731871Z",
     "shell.execute_reply": "2025-08-12T16:10:17.730727Z"
    }
   },
   "outputs": [
    {
     "name": "stdout",
     "output_type": "stream",
     "text": [
      "环境配置完成\n"
     ]
    }
   ],
   "source": [
    "import os\n",
    "import sys\n",
    "import pandas as pd\n",
    "import numpy as np\n",
    "from datetime import datetime, timedelta\n",
    "import logging\n",
    "import time\n",
    "\n",
    "# 设置日志\n",
    "logging.basicConfig(level=logging.INFO, format='%(asctime)s - %(levelname)s - %(message)s')\n",
    "logger = logging.getLogger(__name__)\n",
    "\n",
    "print(\"环境配置完成\")"
   ]
  },
  {
   "cell_type": "code",
   "execution_count": 3,
   "metadata": {
    "execution": {
     "iopub.execute_input": "2025-08-12T16:10:17.747583Z",
     "iopub.status.busy": "2025-08-12T16:10:17.747583Z",
     "iopub.status.idle": "2025-08-12T16:10:17.932409Z",
     "shell.execute_reply": "2025-08-12T16:10:17.931730Z"
    }
   },
   "outputs": [
    {
     "name": "stdout",
     "output_type": "stream",
     "text": [
      "✅ 老虎证券API导入成功\n"
     ]
    },
    {
     "name": "stderr",
     "output_type": "stream",
     "text": [
      "e:\\01_lixin_work_space\\01_code\\tiger_trade\\.venv\\Lib\\site-packages\\google\\protobuf\\runtime_version.py:98: UserWarning: Protobuf gencode version 5.28.3 is exactly one major version older than the runtime version 6.31.1 at tigeropen/push/pb/SocketCommon.proto. Please update the gencode to avoid compatibility violations in the next runtime release.\n",
      "  warnings.warn(\n",
      "e:\\01_lixin_work_space\\01_code\\tiger_trade\\.venv\\Lib\\site-packages\\google\\protobuf\\runtime_version.py:98: UserWarning: Protobuf gencode version 5.28.3 is exactly one major version older than the runtime version 6.31.1 at tigeropen/push/pb/Request.proto. Please update the gencode to avoid compatibility violations in the next runtime release.\n",
      "  warnings.warn(\n",
      "e:\\01_lixin_work_space\\01_code\\tiger_trade\\.venv\\Lib\\site-packages\\google\\protobuf\\runtime_version.py:98: UserWarning: Protobuf gencode version 5.28.3 is exactly one major version older than the runtime version 6.31.1 at tigeropen/push/pb/Response.proto. Please update the gencode to avoid compatibility violations in the next runtime release.\n",
      "  warnings.warn(\n",
      "e:\\01_lixin_work_space\\01_code\\tiger_trade\\.venv\\Lib\\site-packages\\google\\protobuf\\runtime_version.py:98: UserWarning: Protobuf gencode version 5.28.3 is exactly one major version older than the runtime version 6.31.1 at tigeropen/push/pb/PushData.proto. Please update the gencode to avoid compatibility violations in the next runtime release.\n",
      "  warnings.warn(\n",
      "e:\\01_lixin_work_space\\01_code\\tiger_trade\\.venv\\Lib\\site-packages\\google\\protobuf\\runtime_version.py:98: UserWarning: Protobuf gencode version 5.28.3 is exactly one major version older than the runtime version 6.31.1 at tigeropen/push/pb/OrderStatusData.proto. Please update the gencode to avoid compatibility violations in the next runtime release.\n",
      "  warnings.warn(\n",
      "e:\\01_lixin_work_space\\01_code\\tiger_trade\\.venv\\Lib\\site-packages\\google\\protobuf\\runtime_version.py:98: UserWarning: Protobuf gencode version 5.28.3 is exactly one major version older than the runtime version 6.31.1 at tigeropen/push/pb/PositionData.proto. Please update the gencode to avoid compatibility violations in the next runtime release.\n",
      "  warnings.warn(\n",
      "e:\\01_lixin_work_space\\01_code\\tiger_trade\\.venv\\Lib\\site-packages\\google\\protobuf\\runtime_version.py:98: UserWarning: Protobuf gencode version 5.28.3 is exactly one major version older than the runtime version 6.31.1 at tigeropen/push/pb/AssetData.proto. Please update the gencode to avoid compatibility violations in the next runtime release.\n",
      "  warnings.warn(\n",
      "e:\\01_lixin_work_space\\01_code\\tiger_trade\\.venv\\Lib\\site-packages\\google\\protobuf\\runtime_version.py:98: UserWarning: Protobuf gencode version 5.28.3 is exactly one major version older than the runtime version 6.31.1 at tigeropen/push/pb/QuoteData.proto. Please update the gencode to avoid compatibility violations in the next runtime release.\n",
      "  warnings.warn(\n",
      "e:\\01_lixin_work_space\\01_code\\tiger_trade\\.venv\\Lib\\site-packages\\google\\protobuf\\runtime_version.py:98: UserWarning: Protobuf gencode version 5.28.3 is exactly one major version older than the runtime version 6.31.1 at tigeropen/push/pb/QuoteDepthData.proto. Please update the gencode to avoid compatibility violations in the next runtime release.\n",
      "  warnings.warn(\n",
      "e:\\01_lixin_work_space\\01_code\\tiger_trade\\.venv\\Lib\\site-packages\\google\\protobuf\\runtime_version.py:98: UserWarning: Protobuf gencode version 5.28.3 is exactly one major version older than the runtime version 6.31.1 at tigeropen/push/pb/TradeTickData.proto. Please update the gencode to avoid compatibility violations in the next runtime release.\n",
      "  warnings.warn(\n",
      "e:\\01_lixin_work_space\\01_code\\tiger_trade\\.venv\\Lib\\site-packages\\google\\protobuf\\runtime_version.py:98: UserWarning: Protobuf gencode version 5.28.3 is exactly one major version older than the runtime version 6.31.1 at tigeropen/push/pb/OrderTransactionData.proto. Please update the gencode to avoid compatibility violations in the next runtime release.\n",
      "  warnings.warn(\n",
      "e:\\01_lixin_work_space\\01_code\\tiger_trade\\.venv\\Lib\\site-packages\\google\\protobuf\\runtime_version.py:98: UserWarning: Protobuf gencode version 5.28.3 is exactly one major version older than the runtime version 6.31.1 at tigeropen/push/pb/StockTopData.proto. Please update the gencode to avoid compatibility violations in the next runtime release.\n",
      "  warnings.warn(\n",
      "e:\\01_lixin_work_space\\01_code\\tiger_trade\\.venv\\Lib\\site-packages\\google\\protobuf\\runtime_version.py:98: UserWarning: Protobuf gencode version 5.28.3 is exactly one major version older than the runtime version 6.31.1 at tigeropen/push/pb/OptionTopData.proto. Please update the gencode to avoid compatibility violations in the next runtime release.\n",
      "  warnings.warn(\n",
      "e:\\01_lixin_work_space\\01_code\\tiger_trade\\.venv\\Lib\\site-packages\\google\\protobuf\\runtime_version.py:98: UserWarning: Protobuf gencode version 5.28.3 is exactly one major version older than the runtime version 6.31.1 at tigeropen/push/pb/KlineData.proto. Please update the gencode to avoid compatibility violations in the next runtime release.\n",
      "  warnings.warn(\n",
      "e:\\01_lixin_work_space\\01_code\\tiger_trade\\.venv\\Lib\\site-packages\\google\\protobuf\\runtime_version.py:98: UserWarning: Protobuf gencode version 5.28.3 is exactly one major version older than the runtime version 6.31.1 at tigeropen/push/pb/TickData.proto. Please update the gencode to avoid compatibility violations in the next runtime release.\n",
      "  warnings.warn(\n",
      "e:\\01_lixin_work_space\\01_code\\tiger_trade\\.venv\\Lib\\site-packages\\google\\protobuf\\runtime_version.py:98: UserWarning: Protobuf gencode version 5.28.3 is exactly one major version older than the runtime version 6.31.1 at tigeropen/push/pb/QuoteBBOData.proto. Please update the gencode to avoid compatibility violations in the next runtime release.\n",
      "  warnings.warn(\n",
      "e:\\01_lixin_work_space\\01_code\\tiger_trade\\.venv\\Lib\\site-packages\\google\\protobuf\\runtime_version.py:98: UserWarning: Protobuf gencode version 5.28.3 is exactly one major version older than the runtime version 6.31.1 at tigeropen/push/pb/QuoteBasicData.proto. Please update the gencode to avoid compatibility violations in the next runtime release.\n",
      "  warnings.warn(\n"
     ]
    }
   ],
   "source": [
    "# 导入老虎证券API\n",
    "try:\n",
    "    from tigeropen.tiger_open_config import TigerOpenClientConfig\n",
    "    from tigeropen.common.consts import Market, Currency, Language, TimelinePeriod\n",
    "    from tigeropen.common.consts import BarPeriod, QuoteRight, OrderType, OrderStatus\n",
    "    from tigeropen.quote.quote_client import QuoteClient\n",
    "    from tigeropen.trade.trade_client import TradeClient\n",
    "    from tigeropen.push.push_client import PushClient\n",
    "    \n",
    "    print(\"✅ 老虎证券API导入成功\")\n",
    "except ImportError as e:\n",
    "    print(f\"❌ 导入失败: {e}\")\n",
    "    sys.exit(1)"
   ]
  },
  {
   "cell_type": "code",
   "execution_count": 4,
   "metadata": {
    "execution": {
     "iopub.execute_input": "2025-08-12T16:10:17.933414Z",
     "iopub.status.busy": "2025-08-12T16:10:17.933414Z",
     "iopub.status.idle": "2025-08-12T16:10:17.947685Z",
     "shell.execute_reply": "2025-08-12T16:10:17.946951Z"
    }
   },
   "outputs": [
    {
     "name": "stdout",
     "output_type": "stream",
     "text": [
      "✅ 配置文件检查通过\n"
     ]
    }
   ],
   "source": [
    "# 配置文件路径\n",
    "config_file_path = '../config/tiger_openapi_config.properties'\n",
    "private_key_path = '../config/private_key.pem'\n",
    "\n",
    "# 检查配置文件\n",
    "if not os.path.exists(config_file_path):\n",
    "    print(f\"❌ 配置文件不存在: {config_file_path}\")\n",
    "elif not os.path.exists(private_key_path):\n",
    "    print(f\"❌ 私钥文件不存在: {private_key_path}\")\n",
    "else:\n",
    "    print(\"✅ 配置文件检查通过\")"
   ]
  },
  {
   "cell_type": "code",
   "execution_count": 5,
   "metadata": {
    "execution": {
     "iopub.execute_input": "2025-08-12T16:10:17.949732Z",
     "iopub.status.busy": "2025-08-12T16:10:17.949732Z",
     "iopub.status.idle": "2025-08-12T16:10:18.540059Z",
     "shell.execute_reply": "2025-08-12T16:10:18.538952Z"
    }
   },
   "outputs": [
    {
     "name": "stderr",
     "output_type": "stream",
     "text": [
      "2025-08-13 10:07:43,189 - INFO - sdk version: 3.4.4\n",
      "2025-08-13 10:07:43,359 - INFO - Grab quote permission. Permissions:[{'name': 'hkStockQuoteLv2', 'expire_at': -1}, {'name': 'aStockQuoteLv1', 'expire_at': -1}, {'name': 'usQuoteBasic', 'expire_at': 1764739059000}, {'name': 'usOptionQuote', 'expire_at': 1770189404000}]\n"
     ]
    },
    {
     "name": "stdout",
     "output_type": "stream",
     "text": [
      "✅ 推送客户端初始化成功\n",
      "✅ 客户端初始化完成\n"
     ]
    }
   ],
   "source": [
    "# 导入必要的工具函数\n",
    "from tigeropen.common.util.signature_utils import read_private_key\n",
    "from tigeropen.common.consts import Language\n",
    "\n",
    "# 初始化客户端配置\n",
    "client_config = TigerOpenClientConfig(\n",
    "    sandbox_debug=False,  # 生产环境\n",
    "    props_path=config_file_path\n",
    ")\n",
    "client_config.private_key = read_private_key(private_key_path)\n",
    "client_config.language = Language.zh_CN\n",
    "client_config.timeout = 60\n",
    "\n",
    "# 创建客户端实例\n",
    "quote_client = QuoteClient(client_config)\n",
    "trade_client = TradeClient(client_config)\n",
    "\n",
    "# 推送客户端初始化\n",
    "try:\n",
    "    # 从client_config获取socket连接参数\n",
    "    protocol, host, port = client_config.socket_host_port\n",
    "    push_client = PushClient(host, port, use_ssl=(protocol == 'ssl'))\n",
    "    print(\"✅ 推送客户端初始化成功\")\n",
    "except Exception as e:\n",
    "    print(f\"⚠️ 推送客户端初始化失败: {e}\")\n",
    "    push_client = None\n",
    "\n",
    "print(\"✅ 客户端初始化完成\")"
   ]
  },
  {
   "cell_type": "code",
   "execution_count": 6,
   "metadata": {
    "execution": {
     "iopub.execute_input": "2025-08-12T16:10:18.543263Z",
     "iopub.status.busy": "2025-08-12T16:10:18.543263Z",
     "iopub.status.idle": "2025-08-12T16:10:18.868233Z",
     "shell.execute_reply": "2025-08-12T16:10:18.865084Z"
    }
   },
   "outputs": [
    {
     "name": "stdout",
     "output_type": "stream",
     "text": [
      "✅ 行情连接成功，权限信息: [{'name': 'hkStockQuoteLv2', 'expire_at': -1}, {'name': 'aStockQuoteLv1', 'expire_at': -1}, {'name': 'usQuoteBasic', 'expire_at': 1764739059000}, {'name': 'usOptionQuote', 'expire_at': 1770189404000}]\n",
      "✅ 交易连接成功，账户数量: 3\n",
      "🎉 基础连接测试完成！\n"
     ]
    }
   ],
   "source": [
    "# 连接测试\n",
    "try:\n",
    "    # 测试行情连接 - 获取行情权限\n",
    "    permissions = quote_client.grab_quote_permission()\n",
    "    print(f\"✅ 行情连接成功，权限信息: {permissions}\")\n",
    "    \n",
    "    # 测试交易连接 - 获取账户信息\n",
    "    try:\n",
    "        accounts = trade_client.get_managed_accounts()\n",
    "        print(f\"✅ 交易连接成功，账户数量: {len(accounts) if accounts else 0}\")\n",
    "    except Exception as trade_e:\n",
    "        print(f\"⚠️ 交易连接测试失败: {trade_e}\")\n",
    "    \n",
    "except Exception as e:\n",
    "    print(f\"❌ 行情连接测试失败: {e}\")\n",
    "\n",
    "print(\"🎉 基础连接测试完成！\")"
   ]
  },
  {
   "cell_type": "markdown",
   "metadata": {},
   "source": [
    "## 2. 行情数据接口"
   ]
  },
  {
   "cell_type": "markdown",
   "metadata": {},
   "source": [
    "### 2.1 获取股票基本信息"
   ]
  },
  {
   "cell_type": "code",
   "execution_count": 7,
   "metadata": {
    "execution": {
     "iopub.execute_input": "2025-08-12T16:10:18.873741Z",
     "iopub.status.busy": "2025-08-12T16:10:18.873741Z",
     "iopub.status.idle": "2025-08-12T16:10:18.959825Z",
     "shell.execute_reply": "2025-08-12T16:10:18.958721Z"
    }
   },
   "outputs": [
    {
     "name": "stdout",
     "output_type": "stream",
     "text": [
      "📊 股票基本信息:\n",
      "  AAPL: 最新价=$229.65, 昨收=$227.18, 成交量=55,672,301\n",
      "  TSLA: 最新价=$340.84, 昨收=$339.03, 成交量=80,690,086\n",
      "  QQQ: 最新价=$580.05, 昨收=$572.85, 成交量=42,271,441\n",
      "  SPY: 最新价=$642.69, 昨收=$635.92, 成交量=64,821,797\n"
     ]
    }
   ],
   "source": [
    "# 获取股票基本信息\n",
    "symbols = ['AAPL', 'TSLA', 'QQQ', 'SPY']\n",
    "\n",
    "try:\n",
    "    # get_stock_briefs返回DataFrame格式数据\n",
    "    stock_briefs = quote_client.get_stock_briefs(symbols)\n",
    "    print(\"📊 股票基本信息:\")\n",
    "    if stock_briefs is not None and not stock_briefs.empty:\n",
    "        # 遍历DataFrame的每一行\n",
    "        for index, row in stock_briefs.iterrows():\n",
    "            symbol = row.get('symbol', 'N/A')\n",
    "            latest_price = row.get('latest_price', 0)\n",
    "            pre_close = row.get('pre_close', 0)\n",
    "            volume = row.get('volume', 0)\n",
    "            print(f\"  {symbol}: 最新价=${latest_price:.2f}, 昨收=${pre_close:.2f}, 成交量={volume:,}\")\n",
    "    else:\n",
    "        print(\"  未获取到股票信息\")\n",
    "except Exception as e:\n",
    "    print(f\"❌ 获取股票信息失败: {e}\")"
   ]
  },
  {
   "cell_type": "markdown",
   "metadata": {},
   "source": [
    "### 2.2 获取实时报价"
   ]
  },
  {
   "cell_type": "code",
   "execution_count": 8,
   "metadata": {
    "execution": {
     "iopub.execute_input": "2025-08-12T16:10:18.962829Z",
     "iopub.status.busy": "2025-08-12T16:10:18.961833Z",
     "iopub.status.idle": "2025-08-12T16:10:19.021150Z",
     "shell.execute_reply": "2025-08-12T16:10:19.020336Z"
    }
   },
   "outputs": [
    {
     "name": "stdout",
     "output_type": "stream",
     "text": [
      "💰 实时报价:\n",
      "  AAPL: 最新价=$229.65, 涨跌=2.47(1.09%)\n",
      "  TSLA: 最新价=$340.84, 涨跌=1.81(0.53%)\n",
      "  QQQ: 最新价=$580.05, 涨跌=7.20(1.26%)\n",
      "  SPY: 最新价=$642.69, 涨跌=6.77(1.06%)\n"
     ]
    }
   ],
   "source": [
    "# 获取实时报价\n",
    "try:\n",
    "    # get_stock_briefs可以获取实时报价信息，返回DataFrame格式\n",
    "    stock_details = quote_client.get_stock_briefs(symbols)\n",
    "    print(\"💰 实时报价:\")\n",
    "    if stock_details is not None and not stock_details.empty:\n",
    "        # 遍历DataFrame的每一行\n",
    "        for index, row in stock_details.iterrows():\n",
    "            symbol = row.get('symbol', 'N/A')\n",
    "            latest_price = row.get('latest_price', 0)\n",
    "            pre_close = row.get('pre_close', 0)\n",
    "            # 计算涨跌幅\n",
    "            if pre_close > 0:\n",
    "                change = latest_price - pre_close\n",
    "                change_rate = change / pre_close\n",
    "            else:\n",
    "                change = 0\n",
    "                change_rate = 0\n",
    "            print(f\"  {symbol}: 最新价=${latest_price:.2f}, 涨跌={change:.2f}({change_rate:.2%})\")\n",
    "    else:\n",
    "        print(\"  未获取到报价信息\")\n",
    "except Exception as e:\n",
    "    print(f\"❌ 获取报价失败: {e}\")"
   ]
  },
  {
   "cell_type": "markdown",
   "metadata": {},
   "source": [
    "### 2.3 获取K线数据"
   ]
  },
  {
   "cell_type": "code",
   "execution_count": 9,
   "metadata": {
    "execution": {
     "iopub.execute_input": "2025-08-12T16:10:19.023154Z",
     "iopub.status.busy": "2025-08-12T16:10:19.023154Z",
     "iopub.status.idle": "2025-08-12T16:10:19.099845Z",
     "shell.execute_reply": "2025-08-12T16:10:19.099242Z"
    }
   },
   "outputs": [
    {
     "name": "stdout",
     "output_type": "stream",
     "text": [
      "📈 AAPL 日K线数据 (最近5天):\n",
      "               time    open   high    low  close    volume\n",
      "2025-08-06 04:00:00 205.630 215.38 205.59 213.25 108483103\n",
      "2025-08-07 04:00:00 218.875 220.85 216.58 220.03  90224834\n",
      "2025-08-08 04:00:00 220.830 231.00 219.25 229.35 113853967\n",
      "2025-08-11 04:00:00 227.920 229.56 224.76 227.18  61806132\n",
      "2025-08-12 04:00:00 228.005 230.80 227.07 229.65  55672706\n"
     ]
    }
   ],
   "source": [
    "# 获取K线数据\n",
    "symbol = 'AAPL'\n",
    "end_time = int(time.time() * 1000)\n",
    "begin_time = end_time - 30 * 24 * 60 * 60 * 1000  # 30天前\n",
    "\n",
    "try:\n",
    "    # 日K线 - get_bars返回DataFrame格式\n",
    "    bars = quote_client.get_bars(\n",
    "        symbols=[symbol],\n",
    "        period=BarPeriod.DAY,\n",
    "        begin_time=begin_time,\n",
    "        end_time=end_time,\n",
    "        right=QuoteRight.BR\n",
    "    )\n",
    "    \n",
    "    if bars is not None and not bars.empty:\n",
    "        # bars已经是DataFrame格式，直接处理时间列\n",
    "        bars_copy = bars.copy()\n",
    "        bars_copy['time'] = pd.to_datetime(bars_copy['time'], unit='ms')\n",
    "        \n",
    "        print(f\"📈 {symbol} 日K线数据 (最近5天):\")\n",
    "        # 显示最近5天的数据\n",
    "        recent_data = bars_copy[['time', 'open', 'high', 'low', 'close', 'volume']].tail()\n",
    "        print(recent_data.to_string(index=False))\n",
    "    else:\n",
    "        print(\"❌ 未获取到K线数据\")\n",
    "        \n",
    "except Exception as e:\n",
    "    print(f\"❌ 获取K线数据失败: {e}\")"
   ]
  },
  {
   "cell_type": "markdown",
   "metadata": {},
   "source": [
    "### 2.4 获取分时数据"
   ]
  },
  {
   "cell_type": "code",
   "execution_count": 10,
   "metadata": {
    "execution": {
     "iopub.execute_input": "2025-08-12T16:10:19.102356Z",
     "iopub.status.busy": "2025-08-12T16:10:19.102356Z",
     "iopub.status.idle": "2025-08-12T16:10:19.177660Z",
     "shell.execute_reply": "2025-08-12T16:10:19.176984Z"
    }
   },
   "outputs": [
    {
     "name": "stdout",
     "output_type": "stream",
     "text": [
      "⏰ AAPL 分时数据 (最近10个点):\n",
      "  03:50:00: $229.52, 成交量=165229\n",
      "  03:51:00: $229.65, 成交量=94571\n",
      "  03:52:00: $229.65, 成交量=97829\n",
      "  03:53:00: $229.65, 成交量=101918\n",
      "  03:54:00: $229.88, 成交量=215142\n",
      "  03:55:00: $229.73, 成交量=181368\n",
      "  03:56:00: $229.73, 成交量=141324\n",
      "  03:57:00: $229.81, 成交量=176779\n",
      "  03:58:00: $229.74, 成交量=207317\n",
      "  03:59:00: $229.65, 成交量=7943741\n"
     ]
    }
   ],
   "source": [
    "# 获取分时数据\n",
    "try:\n",
    "    timeline = quote_client.get_timeline(\n",
    "        symbols=[symbol],\n",
    "        period=TimelinePeriod.DAY,\n",
    "        begin_time=begin_time\n",
    "    )\n",
    "    \n",
    "    if timeline is not None and not timeline.empty:\n",
    "        print(f\"⏰ {symbol} 分时数据 (最近10个点):\")\n",
    "        # timeline是DataFrame格式，取最后10行\n",
    "        last_10 = timeline.tail(10)\n",
    "        for index, row in last_10.iterrows():\n",
    "            time_str = datetime.fromtimestamp(row['time']/1000).strftime('%H:%M:%S')\n",
    "            print(f\"  {time_str}: ${row['price']:.2f}, 成交量={row['volume']}\")\n",
    "    else:\n",
    "        print(\"❌ 未获取到分时数据\")\n",
    "        \n",
    "except Exception as e:\n",
    "    print(f\"❌ 获取分时数据失败: {e}\")"
   ]
  },
  {
   "cell_type": "markdown",
   "metadata": {},
   "source": [
    "## 3. 账户信息接口"
   ]
  },
  {
   "cell_type": "markdown",
   "metadata": {},
   "source": [
    "### 3.1 获取账户列表"
   ]
  },
  {
   "cell_type": "code",
   "execution_count": 11,
   "metadata": {
    "execution": {
     "iopub.execute_input": "2025-08-12T16:10:19.178664Z",
     "iopub.status.busy": "2025-08-12T16:10:19.178664Z",
     "iopub.status.idle": "2025-08-12T16:10:19.270898Z",
     "shell.execute_reply": "2025-08-12T16:10:19.270069Z"
    }
   },
   "outputs": [
    {
     "name": "stdout",
     "output_type": "stream",
     "text": [
      "👤 账户信息:\n",
      "  账户: AccountProfile({'account': '708815', 'capability': 'RegTMargin', 'status': 'Funded', 'account_type': 'STANDARD'})\n",
      "  账户: AccountProfile({'account': 'U10015521', 'capability': 'CASH', 'status': 'Funded', 'account_type': 'GLOBAL'})\n",
      "  账户: AccountProfile({'account': '21722764233480907', 'capability': 'RegTMargin', 'status': 'Funded', 'account_type': 'PAPER'})\n",
      "✅ 选择模拟账户: AccountProfile({'account': '21722764233480907', 'capability': 'RegTMargin', 'status': 'Funded', 'account_type': 'PAPER'})\n"
     ]
    }
   ],
   "source": [
    "# 获取账户列表\n",
    "try:\n",
    "    accounts = trade_client.get_managed_accounts()\n",
    "    print(\"👤 账户信息:\")\n",
    "    if accounts:\n",
    "        for account in accounts:\n",
    "            print(f\"  账户: {account}\")\n",
    "        \n",
    "        # 优先选择模拟账户（PAPER类型）\n",
    "        paper_account = None\n",
    "        for account in accounts:\n",
    "            if account.account_type == 'PAPER':\n",
    "                paper_account = account\n",
    "                break\n",
    "        \n",
    "        if paper_account:\n",
    "            selected_account = paper_account\n",
    "            print(f\"✅ 选择模拟账户: {selected_account}\")\n",
    "        else:\n",
    "            # 如果没有模拟账户，选择第一个账户\n",
    "            selected_account = accounts[0]\n",
    "            print(f\"✅ 选择账户: {selected_account}\")\n",
    "    else:\n",
    "        print(\"❌ 未找到可用账户\")\n",
    "        selected_account = None\n",
    "        \n",
    "except Exception as e:\n",
    "    print(f\"❌ 获取账户失败: {e}\")\n",
    "    selected_account = None"
   ]
  },
  {
   "cell_type": "markdown",
   "metadata": {},
   "source": [
    "### 3.2 获取资产信息"
   ]
  },
  {
   "cell_type": "code",
   "execution_count": 12,
   "metadata": {
    "execution": {
     "iopub.execute_input": "2025-08-12T16:10:19.272908Z",
     "iopub.status.busy": "2025-08-12T16:10:19.271912Z",
     "iopub.status.idle": "2025-08-12T16:10:19.430077Z",
     "shell.execute_reply": "2025-08-12T16:10:19.428206Z"
    }
   },
   "outputs": [
    {
     "name": "stdout",
     "output_type": "stream",
     "text": [
      "💰 资产信息:\n",
      "  货币: USD\n",
      "  总资产: $598,552.54\n",
      "  现金: $594,251.25\n",
      "  可用资金: $2,386,374.71\n",
      "  持仓市值: $inf\n",
      "  未实现盈亏: $-49.43\n",
      "  已实现盈亏: $-882.40\n",
      "  可用资金: $inf\n",
      "  超额流动性: $inf\n",
      "---\n"
     ]
    }
   ],
   "source": [
    "# 获取资产信息\n",
    "if selected_account:\n",
    "    try:\n",
    "        # 使用账户字符串而不是AccountProfile对象\n",
    "        assets = trade_client.get_assets(account=selected_account.account)\n",
    "        print(\"💰 资产信息:\")\n",
    "        \n",
    "        if assets:\n",
    "            for asset in assets:\n",
    "                # 从summary获取资产信息\n",
    "                if hasattr(asset, 'summary') and asset.summary:\n",
    "                    summary = asset.summary\n",
    "                    \n",
    "                    # 显示基本信息\n",
    "                    if hasattr(summary, 'currency'):\n",
    "                        print(f\"  货币: {summary.currency}\")\n",
    "                    \n",
    "                    # 显示资产数据\n",
    "                    if hasattr(summary, 'net_liquidation'):\n",
    "                        print(f\"  总资产: ${summary.net_liquidation:,.2f}\")\n",
    "                    if hasattr(summary, 'cash'):\n",
    "                        print(f\"  现金: ${summary.cash:,.2f}\")\n",
    "                    if hasattr(summary, 'buying_power'):\n",
    "                        print(f\"  可用资金: ${summary.buying_power:,.2f}\")\n",
    "                    if hasattr(summary, 'gross_position_value'):\n",
    "                        print(f\"  持仓市值: ${summary.gross_position_value:,.2f}\")\n",
    "                    if hasattr(summary, 'unrealized_pnl'):\n",
    "                        print(f\"  未实现盈亏: ${summary.unrealized_pnl:,.2f}\")\n",
    "                    if hasattr(summary, 'realized_pnl'):\n",
    "                        print(f\"  已实现盈亏: ${summary.realized_pnl:,.2f}\")\n",
    "                    if hasattr(summary, 'available_funds'):\n",
    "                        print(f\"  可用资金: ${summary.available_funds:,.2f}\")\n",
    "                    if hasattr(summary, 'excess_liquidity'):\n",
    "                        print(f\"  超额流动性: ${summary.excess_liquidity:,.2f}\")\n",
    "                else:\n",
    "                    print(\"  无法获取资产摘要信息\")\n",
    "                \n",
    "                print(\"---\")\n",
    "        else:\n",
    "            print(\"  未获取到资产信息\")\n",
    "            \n",
    "    except Exception as e:\n",
    "        print(f\"❌ 获取资产信息失败: {e}\")\n",
    "else:\n",
    "    print(\"⚠️ 未选择账户，跳过资产查询\")"
   ]
  },
  {
   "cell_type": "markdown",
   "metadata": {},
   "source": [
    "### 3.3 获取持仓信息"
   ]
  },
  {
   "cell_type": "code",
   "execution_count": 13,
   "metadata": {
    "execution": {
     "iopub.execute_input": "2025-08-12T16:10:19.432026Z",
     "iopub.status.busy": "2025-08-12T16:10:19.432026Z",
     "iopub.status.idle": "2025-08-12T16:10:19.586845Z",
     "shell.execute_reply": "2025-08-12T16:10:19.584041Z"
    }
   },
   "outputs": [
    {
     "name": "stdout",
     "output_type": "stream",
     "text": [
      "📊 持仓信息:\n",
      "  股票: AAPL\n",
      "  数量: 17\n",
      "  平均成本: $232.56\n",
      "  市场价值: $3,904.05\n",
      "  未实现盈亏: $-49.43\n",
      "---\n"
     ]
    }
   ],
   "source": [
    "# 获取持仓信息\n",
    "if selected_account:\n",
    "    try:\n",
    "        # 使用账户字符串而不是AccountProfile对象\n",
    "        positions = trade_client.get_positions(account=selected_account.account)\n",
    "        print(\"📊 持仓信息:\")\n",
    "        \n",
    "        if positions:\n",
    "            for position in positions:\n",
    "                print(f\"  股票: {position.contract.symbol}\")\n",
    "                print(f\"  数量: {position.quantity}\")\n",
    "                print(f\"  平均成本: ${position.average_cost:.2f}\")\n",
    "                print(f\"  市场价值: ${position.market_value:,.2f}\")\n",
    "                print(f\"  未实现盈亏: ${position.unrealized_pnl:,.2f}\")\n",
    "                print(\"---\")\n",
    "        else:\n",
    "            print(\"  暂无持仓\")\n",
    "            \n",
    "    except Exception as e:\n",
    "        print(f\"❌ 获取持仓信息失败: {e}\")\n",
    "else:\n",
    "    print(\"⚠️ 未选择账户，跳过持仓查询\")"
   ]
  },
  {
   "cell_type": "markdown",
   "metadata": {},
   "source": [
    "### 3.4 获取交易成本"
   ]
  },
  {
   "cell_type": "code",
   "execution_count": 33,
   "metadata": {},
   "outputs": [
    {
     "name": "stdout",
     "output_type": "stream",
     "text": [
      "📊 交易成本演示 1: AAPL 100股\n",
      "💰 AAPL 交易成本预览:\n",
      "  交易数量: 100\n",
      "  交易价格: $230.00\n",
      "  交易金额: $23,000.00\n",
      "  总成本: $23000.00\n",
      "\n",
      "📊 交易成本演示 2: TSLA 50股\n",
      "💰 TSLA 交易成本预览:\n",
      "  交易数量: 50\n",
      "  交易价格: $250.00\n",
      "  交易金额: $12,500.00\n",
      "  总成本: $12500.00\n",
      "\n",
      "📊 交易成本演示 3: SPY 10股 (小额交易)\n",
      "💰 SPY 交易成本预览:\n",
      "  交易数量: 10\n",
      "  交易价格: $450.00\n",
      "  交易金额: $4,500.00\n",
      "  总成本: $4500.00\n"
     ]
    }
   ],
   "source": [
    "# 获取交易成本信息\n",
    "def get_trading_costs(symbol, quantity, price, account=None, client=None):\n",
    "    \"\"\"获取交易成本估算\n",
    "    \n",
    "    Args:\n",
    "        symbol: 股票代码\n",
    "        quantity: 交易数量\n",
    "        price: 交易价格\n",
    "        account: 交易账户\n",
    "        client: 交易客户端\n",
    "    \"\"\"\n",
    "    # 获取交易客户端和账户\n",
    "    if client is None:\n",
    "        client = globals().get('trade_client')\n",
    "    if account is None:\n",
    "        account = globals().get('selected_account')\n",
    "    \n",
    "    if not client:\n",
    "        print(\"❌ 交易客户端未初始化，请先运行客户端初始化代码\")\n",
    "        return None\n",
    "        \n",
    "    if not account:\n",
    "        print(\"❌ 未选择账户，请先运行账户选择代码\")\n",
    "        return None\n",
    "    \n",
    "    try:\n",
    "        from tigeropen.common.util.contract_utils import stock_contract\n",
    "        from tigeropen.common.util.order_utils import limit_order\n",
    "        \n",
    "        # 创建合约对象\n",
    "        contract = stock_contract(symbol=symbol, currency='USD')\n",
    "        \n",
    "        # 创建订单对象用于预览\n",
    "        order = limit_order(account=account.account, contract=contract, \n",
    "                           action='BUY', limit_price=price, quantity=quantity)\n",
    "        \n",
    "        # 使用订单预览功能获取成本信息\n",
    "        preview_result = client.preview_order(order)\n",
    "        \n",
    "        if preview_result:\n",
    "            print(f\"💰 {symbol} 交易成本预览:\")\n",
    "            print(f\"  交易数量: {quantity}\")\n",
    "            print(f\"  交易价格: ${price:.2f}\")\n",
    "            print(f\"  交易金额: ${quantity * price:,.2f}\")\n",
    "            \n",
    "            # 显示预览结果中的成本信息\n",
    "            if hasattr(preview_result, 'commission'):\n",
    "                print(f\"  预估手续费: ${preview_result.commission:.2f}\")\n",
    "            if hasattr(preview_result, 'initial_margin'):\n",
    "                print(f\"  初始保证金: ${preview_result.initial_margin:.2f}\")\n",
    "            if hasattr(preview_result, 'maintenance_margin'):\n",
    "                print(f\"  维持保证金: ${preview_result.maintenance_margin:.2f}\")\n",
    "            if hasattr(preview_result, 'buying_power'):\n",
    "                print(f\"  所需购买力: ${preview_result.buying_power:.2f}\")\n",
    "            \n",
    "            # 计算总成本\n",
    "            commission = getattr(preview_result, 'commission', 0)\n",
    "            total_cost = quantity * price + commission\n",
    "            print(f\"  总成本: ${total_cost:.2f}\")\n",
    "            \n",
    "            return {\n",
    "                'symbol': symbol,\n",
    "                'quantity': quantity,\n",
    "                'price': price,\n",
    "                'trade_amount': quantity * price,\n",
    "                'commission': commission,\n",
    "                'total_cost': total_cost,\n",
    "                'preview_result': preview_result\n",
    "            }\n",
    "        else:\n",
    "            print(\"❌ 无法获取订单预览信息\")\n",
    "            return None\n",
    "            \n",
    "    except Exception as e:\n",
    "        print(f\"❌ 获取交易成本失败: {e}\")\n",
    "        # 提供基本的成本估算\n",
    "        print(f\"💡 基本成本估算:\")\n",
    "        print(f\"  交易数量: {quantity}\")\n",
    "        print(f\"  交易价格: ${price:.2f}\")\n",
    "        print(f\"  交易金额: ${quantity * price:,.2f}\")\n",
    "        \n",
    "        # 美股交易成本估算（基于常见费率）\n",
    "        if symbol and len(symbol) <= 5:  # 假设是美股\n",
    "            # 老虎证券美股交易费用参考\n",
    "            commission_rate = 0.01  # 每股1美分，最低1美元\n",
    "            commission = max(quantity * commission_rate, 1.0)\n",
    "            sec_fee = quantity * price * 0.0000278  # SEC费用\n",
    "            finra_fee = min(quantity * 0.000166, 8.5)  # FINRA费用\n",
    "            \n",
    "            total_fees = commission + sec_fee + finra_fee\n",
    "            total_cost = quantity * price + total_fees\n",
    "            \n",
    "            print(f\"  估算佣金: ${commission:.2f}\")\n",
    "            print(f\"  SEC费用: ${sec_fee:.4f}\")\n",
    "            print(f\"  FINRA费用: ${finra_fee:.4f}\")\n",
    "            print(f\"  总费用: ${total_fees:.2f}\")\n",
    "            print(f\"  总成本: ${total_cost:.2f}\")\n",
    "            \n",
    "            return {\n",
    "                'symbol': symbol,\n",
    "                'quantity': quantity,\n",
    "                'price': price,\n",
    "                'trade_amount': quantity * price,\n",
    "                'commission': commission,\n",
    "                'sec_fee': sec_fee,\n",
    "                'finra_fee': finra_fee,\n",
    "                'total_fees': total_fees,\n",
    "                'total_cost': total_cost\n",
    "            }\n",
    "        \n",
    "        return None\n",
    "\n",
    "# 演示获取交易成本\n",
    "if selected_account:\n",
    "    # 示例1: AAPL 100股\n",
    "    print(\"📊 交易成本演示 1: AAPL 100股\")\n",
    "    cost_info = get_trading_costs('AAPL', 100, 230.0)\n",
    "    print()\n",
    "    \n",
    "    # 示例2: TSLA 50股\n",
    "    print(\"📊 交易成本演示 2: TSLA 50股\")\n",
    "    cost_info = get_trading_costs('TSLA', 50, 250.0)\n",
    "    print()\n",
    "    \n",
    "    # 示例3: 小额交易\n",
    "    print(\"📊 交易成本演示 3: SPY 10股 (小额交易)\")\n",
    "    cost_info = get_trading_costs('SPY', 10, 450.0)\n",
    "else:\n",
    "    print(\"⚠️ 未选择账户，跳过交易成本演示\")"
   ]
  },
  {
   "cell_type": "code",
   "execution_count": 34,
   "metadata": {},
   "outputs": [
    {
     "name": "stdout",
     "output_type": "stream",
     "text": [
      "🔍 获取历史交易成本...\n",
      "📊 过去30天交易成本统计:\n",
      "  总订单数: 100\n",
      "  无成交订单\n"
     ]
    }
   ],
   "source": [
    "# 获取历史交易的实际成本\n",
    "def get_historical_trading_costs(days=30, account=None, client=None):\n",
    "    \"\"\"获取历史交易的实际成本统计\n",
    "    \n",
    "    Args:\n",
    "        days: 查询天数\n",
    "        account: 交易账户\n",
    "        client: 交易客户端\n",
    "    \"\"\"\n",
    "    # 获取交易客户端和账户\n",
    "    if client is None:\n",
    "        client = globals().get('trade_client')\n",
    "    if account is None:\n",
    "        account = globals().get('selected_account')\n",
    "    \n",
    "    if not client:\n",
    "        print(\"❌ 交易客户端未初始化，请先运行客户端初始化代码\")\n",
    "        return None\n",
    "        \n",
    "    if not account:\n",
    "        print(\"❌ 未选择账户，请先运行账户选择代码\")\n",
    "        return None\n",
    "    \n",
    "    try:\n",
    "        from datetime import datetime, timedelta\n",
    "        \n",
    "        # 计算查询时间范围\n",
    "        end_time = datetime.now()\n",
    "        start_time = end_time - timedelta(days=days)\n",
    "        \n",
    "        # 获取历史订单\n",
    "        orders = client.get_orders(account=account.account, \n",
    "                                  start_time=int(start_time.timestamp() * 1000),\n",
    "                                  end_time=int(end_time.timestamp() * 1000))\n",
    "        \n",
    "        if not orders:\n",
    "            print(f\"📊 过去{days}天内无交易记录\")\n",
    "            return None\n",
    "        \n",
    "        print(f\"📊 过去{days}天交易成本统计:\")\n",
    "        print(f\"  总订单数: {len(orders)}\")\n",
    "        \n",
    "        total_commission = 0\n",
    "        total_trade_amount = 0\n",
    "        filled_orders = 0\n",
    "        \n",
    "        for order in orders:\n",
    "            if hasattr(order, 'filled') and order.filled > 0:\n",
    "                filled_orders += 1\n",
    "                commission = getattr(order, 'commission', 0)\n",
    "                avg_price = getattr(order, 'avg_fill_price', 0)\n",
    "                filled_qty = order.filled\n",
    "                \n",
    "                trade_amount = avg_price * filled_qty\n",
    "                total_commission += commission\n",
    "                total_trade_amount += trade_amount\n",
    "                \n",
    "                print(f\"  订单 {order.id}:\")\n",
    "                print(f\"    标的: {getattr(order.contract, 'symbol', 'N/A') if hasattr(order, 'contract') and order.contract else 'N/A'}\")\n",
    "                print(f\"    成交数量: {filled_qty}\")\n",
    "                print(f\"    成交价格: ${avg_price:.2f}\")\n",
    "                print(f\"    交易金额: ${trade_amount:.2f}\")\n",
    "                print(f\"    手续费: ${commission:.2f}\")\n",
    "                print(f\"    费率: {(commission/trade_amount*100):.4f}%\" if trade_amount > 0 else \"    费率: N/A\")\n",
    "                print(\"    ---\")\n",
    "        \n",
    "        if filled_orders > 0:\n",
    "            avg_commission_rate = (total_commission / total_trade_amount * 100) if total_trade_amount > 0 else 0\n",
    "            print(f\"📈 汇总统计:\")\n",
    "            print(f\"  成交订单数: {filled_orders}\")\n",
    "            print(f\"  总交易金额: ${total_trade_amount:,.2f}\")\n",
    "            print(f\"  总手续费: ${total_commission:.2f}\")\n",
    "            print(f\"  平均费率: {avg_commission_rate:.4f}%\")\n",
    "            \n",
    "            return {\n",
    "                'total_orders': len(orders),\n",
    "                'filled_orders': filled_orders,\n",
    "                'total_trade_amount': total_trade_amount,\n",
    "                'total_commission': total_commission,\n",
    "                'avg_commission_rate': avg_commission_rate\n",
    "            }\n",
    "        else:\n",
    "            print(\"  无成交订单\")\n",
    "            return None\n",
    "            \n",
    "    except Exception as e:\n",
    "        print(f\"❌ 获取历史交易成本失败: {e}\")\n",
    "        return None\n",
    "\n",
    "# 演示获取历史交易成本\n",
    "if selected_account:\n",
    "    print(\"🔍 获取历史交易成本...\")\n",
    "    historical_costs = get_historical_trading_costs(days=30)\n",
    "else:\n",
    "    print(\"⚠️ 未选择账户，跳过历史交易成本查询\")"
   ]
  },
  {
   "cell_type": "code",
   "execution_count": 35,
   "metadata": {},
   "outputs": [
    {
     "name": "stdout",
     "output_type": "stream",
     "text": [
      "🔍 交易成本比较演示:\n",
      "📊 交易成本比较:\n",
      "标的       数量       价格         交易额          估算费用       费率       总成本         \n",
      "--------------------------------------------------------------------------------\n",
      "AAPL     100      $230.00    $23,000.00   $1.66      0.0072 % $23,001.66  \n",
      "TSLA     50       $250.00    $12,500.00   $1.36      0.0108 % $12,501.36  \n",
      "MSFT     75       $380.00    $28,500.00   $1.80      0.0063 % $28,501.80  \n",
      "GOOGL    25       $140.00    $3,500.00    $1.10      0.0315 % $3,501.10   \n",
      "SPY      200      $450.00    $90,000.00   $4.54      0.0050 % $90,004.54  \n",
      "--------------------------------------------------------------------------------\n",
      "总计                           $157,500.00  $10.45     0.0066 % $157,510.45 \n",
      "\n",
      "💡 成本效率分析:\n",
      "  ✅ 整体费率较低，成本控制良好\n"
     ]
    }
   ],
   "source": [
    "# 交易成本比较工具\n",
    "def compare_trading_costs(trades_list):\n",
    "    \"\"\"比较不同交易的成本效率\n",
    "    \n",
    "    Args:\n",
    "        trades_list: 交易列表，每个元素包含 (symbol, quantity, price)\n",
    "    \"\"\"\n",
    "    print(\"📊 交易成本比较:\")\n",
    "    print(f\"{'标的':<8} {'数量':<8} {'价格':<10} {'交易额':<12} {'估算费用':<10} {'费率':<8} {'总成本':<12}\")\n",
    "    print(\"-\" * 80)\n",
    "    \n",
    "    total_trade_amount = 0\n",
    "    total_fees = 0\n",
    "    \n",
    "    for symbol, quantity, price in trades_list:\n",
    "        trade_amount = quantity * price\n",
    "        \n",
    "        # 美股交易费用估算\n",
    "        commission = max(quantity * 0.01, 1.0)  # 每股1美分，最低1美元\n",
    "        sec_fee = trade_amount * 0.0000278  # SEC费用\n",
    "        finra_fee = min(quantity * 0.000166, 8.5)  # FINRA费用\n",
    "        \n",
    "        total_fee = commission + sec_fee + finra_fee\n",
    "        fee_rate = (total_fee / trade_amount * 100) if trade_amount > 0 else 0\n",
    "        total_cost = trade_amount + total_fee\n",
    "        \n",
    "        print(f\"{symbol:<8} {quantity:<8} ${price:<9.2f} ${trade_amount:<11,.2f} ${total_fee:<9.2f} {fee_rate:<7.4f}% ${total_cost:<11,.2f}\")\n",
    "        \n",
    "        total_trade_amount += trade_amount\n",
    "        total_fees += total_fee\n",
    "    \n",
    "    print(\"-\" * 80)\n",
    "    overall_fee_rate = (total_fees / total_trade_amount * 100) if total_trade_amount > 0 else 0\n",
    "    print(f\"{'总计':<8} {'':<8} {'':<10} ${total_trade_amount:<11,.2f} ${total_fees:<9.2f} {overall_fee_rate:<7.4f}% ${total_trade_amount + total_fees:<11,.2f}\")\n",
    "    \n",
    "    # 成本效率分析\n",
    "    print(\"\\n💡 成本效率分析:\")\n",
    "    if overall_fee_rate < 0.1:\n",
    "        print(\"  ✅ 整体费率较低，成本控制良好\")\n",
    "    elif overall_fee_rate < 0.5:\n",
    "        print(\"  ⚠️ 整体费率适中，可考虑优化交易规模\")\n",
    "    else:\n",
    "        print(\"  ❌ 整体费率较高，建议增加单笔交易规模以降低成本\")\n",
    "    \n",
    "    return {\n",
    "        'total_trade_amount': total_trade_amount,\n",
    "        'total_fees': total_fees,\n",
    "        'overall_fee_rate': overall_fee_rate\n",
    "    }\n",
    "\n",
    "# 演示交易成本比较\n",
    "print(\"🔍 交易成本比较演示:\")\n",
    "trades_to_compare = [\n",
    "    ('AAPL', 100, 230.0),\n",
    "    ('TSLA', 50, 250.0),\n",
    "    ('MSFT', 75, 380.0),\n",
    "    ('GOOGL', 25, 140.0),\n",
    "    ('SPY', 200, 450.0)\n",
    "]\n",
    "\n",
    "comparison_result = compare_trading_costs(trades_to_compare)"
   ]
  },
  {
   "cell_type": "code",
   "execution_count": 36,
   "metadata": {},
   "outputs": [
    {
     "name": "stdout",
     "output_type": "stream",
     "text": [
      "🔍 滑点成本分析演示:\n",
      "\n",
      "📊 示例1: AAPL 大额交易 (1000股)\n",
      "📊 AAPL 滑点成本分析:\n",
      "  交易数量: 1,000\n",
      "  预期价格: $230.00\n",
      "  当前价格: $229.65\n",
      "  交易金额: $230,000.00\n",
      "\n",
      "  💰 滑点成本明细:\n",
      "    买卖价差成本: $0.00 (0.0000 * 1000 / 2)\n",
      "    市场冲击成本: $184.00 (8 bps)\n",
      "    时机风险成本: $115.00 (5 bps)\n",
      "    价格偏离成本: $350.00 (偏离 $0.3500)\n",
      "    总滑点成本: $649.00 (28.2 bps)\n",
      "\n",
      "  📈 滑点影响评估: 高\n",
      "  💡 交易建议: 滑点成本较高，强烈建议分批交易或使用算法交易\n",
      "\n",
      "📊 示例2: TSLA 中等交易 (200股)\n",
      "📊 TSLA 滑点成本分析:\n",
      "  交易数量: 200\n",
      "  预期价格: $250.00\n",
      "  当前价格: $340.84\n",
      "  交易金额: $50,000.00\n",
      "\n",
      "  💰 滑点成本明细:\n",
      "    买卖价差成本: $0.00 (0.0000 * 200 / 2)\n",
      "    市场冲击成本: $25.00 (5 bps)\n",
      "    时机风险成本: $15.00 (3 bps)\n",
      "    价格偏离成本: $18168.00 (偏离 $90.8400)\n",
      "    总滑点成本: $18208.00 (3641.6 bps)\n",
      "\n",
      "  📈 滑点影响评估: 高\n",
      "  💡 交易建议: 滑点成本较高，强烈建议分批交易或使用算法交易\n",
      "\n",
      "📊 示例3: SPY 小额交易 (50股)\n",
      "📊 SPY 滑点成本分析:\n",
      "  交易数量: 50\n",
      "  预期价格: $450.00\n",
      "  当前价格: $642.69\n",
      "  交易金额: $22,500.00\n",
      "\n",
      "  💰 滑点成本明细:\n",
      "    买卖价差成本: $0.00 (0.0000 * 50 / 2)\n",
      "    市场冲击成本: $4.50 (2 bps)\n",
      "    时机风险成本: $2.25 (1 bps)\n",
      "    价格偏离成本: $9634.50 (偏离 $192.6900)\n",
      "    总滑点成本: $9641.25 (4285.0 bps)\n",
      "\n",
      "  📈 滑点影响评估: 高\n",
      "  💡 交易建议: 滑点成本较高，强烈建议分批交易或使用算法交易\n"
     ]
    }
   ],
   "source": [
    "# 滑点成本分析工具\n",
    "def analyze_slippage_costs(symbol, quantity, expected_price, market_impact_bps=5, timing_risk_bps=3, account=None, client=None):\n",
    "    \"\"\"分析滑点成本\n",
    "    \n",
    "    Args:\n",
    "        symbol: 股票代码\n",
    "        quantity: 交易数量\n",
    "        expected_price: 预期交易价格\n",
    "        market_impact_bps: 市场冲击成本(基点)\n",
    "        timing_risk_bps: 时机风险成本(基点)\n",
    "        account: 交易账户\n",
    "        client: 行情客户端\n",
    "    \"\"\"\n",
    "    # 获取行情客户端\n",
    "    if client is None:\n",
    "        client = globals().get('quote_client')\n",
    "    \n",
    "    if not client:\n",
    "        print(\"❌ 行情客户端未初始化，使用估算值\")\n",
    "        current_price = expected_price\n",
    "        bid_ask_spread = expected_price * 0.001  # 估算0.1%的买卖价差\n",
    "    else:\n",
    "        try:\n",
    "            # 获取实时报价\n",
    "            stock_briefs = client.get_stock_briefs([symbol])\n",
    "            if stock_briefs is not None and not stock_briefs.empty:\n",
    "                current_price = stock_briefs.iloc[0]['latest_price']\n",
    "                # 尝试获取买卖价差\n",
    "                bid_price = stock_briefs.iloc[0].get('bid_price', current_price * 0.999)\n",
    "                ask_price = stock_briefs.iloc[0].get('ask_price', current_price * 1.001)\n",
    "                bid_ask_spread = ask_price - bid_price\n",
    "            else:\n",
    "                current_price = expected_price\n",
    "                bid_ask_spread = expected_price * 0.001\n",
    "        except Exception as e:\n",
    "            print(f\"⚠️ 获取实时报价失败: {e}，使用估算值\")\n",
    "            current_price = expected_price\n",
    "            bid_ask_spread = expected_price * 0.001\n",
    "    \n",
    "    # 计算各项滑点成本\n",
    "    trade_amount = quantity * expected_price\n",
    "    \n",
    "    # 1. 买卖价差成本 (Bid-Ask Spread)\n",
    "    spread_cost = bid_ask_spread * quantity / 2  # 买入时支付一半价差\n",
    "    \n",
    "    # 2. 市场冲击成本 (Market Impact)\n",
    "    market_impact_cost = trade_amount * market_impact_bps / 10000\n",
    "    \n",
    "    # 3. 时机风险成本 (Timing Risk)\n",
    "    timing_risk_cost = trade_amount * timing_risk_bps / 10000\n",
    "    \n",
    "    # 4. 价格偏离成本 (Price Deviation)\n",
    "    price_deviation = abs(current_price - expected_price)\n",
    "    price_deviation_cost = price_deviation * quantity\n",
    "    \n",
    "    # 总滑点成本\n",
    "    total_slippage = spread_cost + market_impact_cost + timing_risk_cost + price_deviation_cost\n",
    "    slippage_bps = (total_slippage / trade_amount) * 10000 if trade_amount > 0 else 0\n",
    "    \n",
    "    print(f\"📊 {symbol} 滑点成本分析:\")\n",
    "    print(f\"  交易数量: {quantity:,}\")\n",
    "    print(f\"  预期价格: ${expected_price:.2f}\")\n",
    "    print(f\"  当前价格: ${current_price:.2f}\")\n",
    "    print(f\"  交易金额: ${trade_amount:,.2f}\")\n",
    "    print()\n",
    "    print(f\"  💰 滑点成本明细:\")\n",
    "    print(f\"    买卖价差成本: ${spread_cost:.2f} ({bid_ask_spread:.4f} * {quantity} / 2)\")\n",
    "    print(f\"    市场冲击成本: ${market_impact_cost:.2f} ({market_impact_bps} bps)\")\n",
    "    print(f\"    时机风险成本: ${timing_risk_cost:.2f} ({timing_risk_bps} bps)\")\n",
    "    print(f\"    价格偏离成本: ${price_deviation_cost:.2f} (偏离 ${price_deviation:.4f})\")\n",
    "    print(f\"    总滑点成本: ${total_slippage:.2f} ({slippage_bps:.1f} bps)\")\n",
    "    print()\n",
    "    \n",
    "    # 滑点影响分析\n",
    "    if slippage_bps < 10:\n",
    "        impact_level = \"低\"\n",
    "        recommendation = \"滑点成本较低，可以正常交易\"\n",
    "    elif slippage_bps < 25:\n",
    "        impact_level = \"中等\"\n",
    "        recommendation = \"滑点成本适中，建议分批交易或选择流动性更好的时段\"\n",
    "    else:\n",
    "        impact_level = \"高\"\n",
    "        recommendation = \"滑点成本较高，强烈建议分批交易或使用算法交易\"\n",
    "    \n",
    "    print(f\"  📈 滑点影响评估: {impact_level}\")\n",
    "    print(f\"  💡 交易建议: {recommendation}\")\n",
    "    \n",
    "    return {\n",
    "        'symbol': symbol,\n",
    "        'quantity': quantity,\n",
    "        'expected_price': expected_price,\n",
    "        'current_price': current_price,\n",
    "        'trade_amount': trade_amount,\n",
    "        'spread_cost': spread_cost,\n",
    "        'market_impact_cost': market_impact_cost,\n",
    "        'timing_risk_cost': timing_risk_cost,\n",
    "        'price_deviation_cost': price_deviation_cost,\n",
    "        'total_slippage': total_slippage,\n",
    "        'slippage_bps': slippage_bps,\n",
    "        'impact_level': impact_level,\n",
    "        'recommendation': recommendation\n",
    "    }\n",
    "\n",
    "# 演示滑点成本分析\n",
    "print(\"🔍 滑点成本分析演示:\")\n",
    "print()\n",
    "\n",
    "# 示例1: 大额交易\n",
    "print(\"📊 示例1: AAPL 大额交易 (1000股)\")\n",
    "slippage_analysis1 = analyze_slippage_costs('AAPL', 1000, 230.0, market_impact_bps=8, timing_risk_bps=5)\n",
    "print()\n",
    "\n",
    "# 示例2: 中等交易\n",
    "print(\"📊 示例2: TSLA 中等交易 (200股)\")\n",
    "slippage_analysis2 = analyze_slippage_costs('TSLA', 200, 250.0, market_impact_bps=5, timing_risk_bps=3)\n",
    "print()\n",
    "\n",
    "# 示例3: 小额交易\n",
    "print(\"📊 示例3: SPY 小额交易 (50股)\")\n",
    "slippage_analysis3 = analyze_slippage_costs('SPY', 50, 450.0, market_impact_bps=2, timing_risk_bps=1)"
   ]
  },
  {
   "cell_type": "code",
   "execution_count": null,
   "metadata": {},
   "outputs": [
    {
     "name": "stdout",
     "output_type": "stream",
     "text": [
      "🔍 综合交易成本分析演示:\n",
      "\n",
      "📊 案例 1: AAPL 100股 @ $230.0\n",
      "📊 AAPL 综合交易成本分析:\n",
      "============================================================\n",
      "💰 1. 交易费用 (佣金 + 监管费用):\n",
      "  佣金: $1.00\n",
      "  SEC费用: $0.6394\n",
      "  FINRA费用: $0.0166\n",
      "  小计: $1.66 (0.7 bps)\n",
      "\n",
      "📈 2. 滑点成本 (市场冲击 + 时机风险):\n",
      "  买卖价差成本: $11.50\n",
      "  市场冲击成本: $6.90 (3 bps)\n",
      "  时机风险成本: $4.60 (2 bps)\n",
      "  小计: $23.00 (10.0 bps)\n",
      "\n",
      "📋 3. 总成本汇总:\n",
      "  交易金额: $23,000.00\n",
      "  交易费用: $1.66 (0.7 bps)\n",
      "  滑点成本: $23.00 (10.0 bps)\n",
      "  总交易成本: $24.66 (10.7 bps)\n",
      "  有效交易价格: $230.2466 (原价 + 成本/股)\n",
      "\n",
      "📊 4. 成本结构分析:\n",
      "  交易费用占比: 6.7%\n",
      "  滑点成本占比: 93.3%\n",
      "  💡 主要成本来源: 滑点成本，建议分批交易或选择流动性更好的时段\n",
      "\n",
      "🎯 5. 交易优化建议:\n",
      "  ✅ 总成本较低，当前交易策略合理\n",
      "\n",
      "================================================================================\n",
      "\n",
      "📊 案例 2: AAPL 500股 @ $230.0\n",
      "📊 AAPL 综合交易成本分析:\n",
      "============================================================\n",
      "💰 1. 交易费用 (佣金 + 监管费用):\n",
      "  佣金: $5.00\n",
      "  SEC费用: $3.1970\n",
      "  FINRA费用: $0.0830\n",
      "  小计: $8.28 (0.7 bps)\n",
      "\n",
      "📈 2. 滑点成本 (市场冲击 + 时机风险):\n",
      "  买卖价差成本: $57.50\n",
      "  市场冲击成本: $57.50 (5 bps)\n",
      "  时机风险成本: $34.50 (3 bps)\n",
      "  小计: $149.50 (13.0 bps)\n",
      "\n",
      "📋 3. 总成本汇总:\n",
      "  交易金额: $115,000.00\n",
      "  交易费用: $8.28 (0.7 bps)\n",
      "  滑点成本: $149.50 (13.0 bps)\n",
      "  总交易成本: $157.78 (13.7 bps)\n",
      "  有效交易价格: $230.3156 (原价 + 成本/股)\n",
      "\n",
      "📊 4. 成本结构分析:\n",
      "  交易费用占比: 5.2%\n",
      "  滑点成本占比: 94.8%\n",
      "  💡 主要成本来源: 滑点成本，建议分批交易或选择流动性更好的时段\n",
      "\n",
      "🎯 5. 交易优化建议:\n",
      "  ✅ 总成本较低，当前交易策略合理\n",
      "\n",
      "================================================================================\n",
      "\n",
      "📊 案例 3: AAPL 2000股 @ $230.0\n",
      "📊 AAPL 综合交易成本分析:\n",
      "============================================================\n",
      "💰 1. 交易费用 (佣金 + 监管费用):\n",
      "  佣金: $20.00\n",
      "  SEC费用: $12.7880\n",
      "  FINRA费用: $0.3320\n",
      "  小计: $33.12 (0.7 bps)\n",
      "\n",
      "📈 2. 滑点成本 (市场冲击 + 时机风险):\n",
      "  买卖价差成本: $230.00\n",
      "  市场冲击成本: $368.00 (8 bps)\n",
      "  时机风险成本: $230.00 (5 bps)\n",
      "  小计: $828.00 (18.0 bps)\n",
      "\n",
      "📋 3. 总成本汇总:\n",
      "  交易金额: $460,000.00\n",
      "  交易费用: $33.12 (0.7 bps)\n",
      "  滑点成本: $828.00 (18.0 bps)\n",
      "  总交易成本: $861.12 (18.7 bps)\n",
      "  有效交易价格: $230.4306 (原价 + 成本/股)\n",
      "\n",
      "📊 4. 成本结构分析:\n",
      "  交易费用占比: 3.8%\n",
      "  滑点成本占比: 96.2%\n",
      "  💡 主要成本来源: 滑点成本，建议分批交易或选择流动性更好的时段\n",
      "\n",
      "🎯 5. 交易优化建议:\n",
      "  ⚠️ 总成本适中，可考虑以下优化:\n",
      "     - 选择流动性更好的交易时段\n",
      "     - 适当增加单笔交易规模\n",
      "\n",
      "================================================================================\n",
      "\n"
     ]
    },
    {
     "name": "stderr",
     "output_type": "stream",
     "text": [
      "2025-08-13 10:53:23,360 - ERROR - command: ERROR\n",
      "id: 0\n",
      "code: 4001\n",
      "msg: \"kick out by a new connection\"\n",
      "\n"
     ]
    }
   ],
   "source": [
    "# 综合交易成本分析（交易费 + 滑点）\n",
    "def comprehensive_trading_cost_analysis(symbol, quantity, price, market_impact_bps=5, timing_risk_bps=3):\n",
    "    \"\"\"综合交易成本分析\n",
    "    \n",
    "    Args:\n",
    "        symbol: 股票代码\n",
    "        quantity: 交易数量\n",
    "        price: 交易价格\n",
    "        market_impact_bps: 市场冲击成本(基点)\n",
    "        timing_risk_bps: 时机风险成本(基点)\n",
    "    \"\"\"\n",
    "    print(f\"📊 {symbol} 综合交易成本分析:\")\n",
    "    print(\"=\" * 60)\n",
    "    \n",
    "    trade_amount = quantity * price\n",
    "    \n",
    "    # 1. 交易费用分析\n",
    "    print(\"💰 1. 交易费用 (佣金 + 监管费用):\")\n",
    "    commission = max(quantity * 0.01, 1.0)  # 每股1美分，最低1美元\n",
    "    sec_fee = trade_amount * 0.0000278  # SEC费用\n",
    "    finra_fee = min(quantity * 0.000166, 8.5)  # FINRA费用\n",
    "    total_fees = commission + sec_fee + finra_fee\n",
    "    fees_bps = (total_fees / trade_amount) * 10000 if trade_amount > 0 else 0\n",
    "    \n",
    "    print(f\"  佣金: ${commission:.2f}\")\n",
    "    print(f\"  SEC费用: ${sec_fee:.4f}\")\n",
    "    print(f\"  FINRA费用: ${finra_fee:.4f}\")\n",
    "    print(f\"  小计: ${total_fees:.2f} ({fees_bps:.1f} bps)\")\n",
    "    print()\n",
    "    \n",
    "    # 2. 滑点成本分析\n",
    "    print(\"📈 2. 滑点成本 (市场冲击 + 时机风险):\")\n",
    "    bid_ask_spread = price * 0.001  # 估算0.1%的买卖价差\n",
    "    spread_cost = bid_ask_spread * quantity / 2\n",
    "    market_impact_cost = trade_amount * market_impact_bps / 10000\n",
    "    timing_risk_cost = trade_amount * timing_risk_bps / 10000\n",
    "    total_slippage = spread_cost + market_impact_cost + timing_risk_cost\n",
    "    slippage_bps = (total_slippage / trade_amount) * 10000 if trade_amount > 0 else 0\n",
    "    \n",
    "    print(f\"  买卖价差成本: ${spread_cost:.2f}\")\n",
    "    print(f\"  市场冲击成本: ${market_impact_cost:.2f} ({market_impact_bps} bps)\")\n",
    "    print(f\"  时机风险成本: ${timing_risk_cost:.2f} ({timing_risk_bps} bps)\")\n",
    "    print(f\"  小计: ${total_slippage:.2f} ({slippage_bps:.1f} bps)\")\n",
    "    print()\n",
    "    \n",
    "    # 3. 总成本汇总\n",
    "    total_cost = total_fees + total_slippage\n",
    "    total_cost_bps = (total_cost / trade_amount) * 10000 if trade_amount > 0 else 0\n",
    "    effective_price = price + (total_cost / quantity)\n",
    "    \n",
    "    print(\"📋 3. 总成本汇总:\")\n",
    "    print(f\"  交易金额: ${trade_amount:,.2f}\")\n",
    "    print(f\"  交易费用: ${total_fees:.2f} ({fees_bps:.1f} bps)\")\n",
    "    print(f\"  滑点成本: ${total_slippage:.2f} ({slippage_bps:.1f} bps)\")\n",
    "    print(f\"  总交易成本: ${total_cost:.2f} ({total_cost_bps:.1f} bps)\")\n",
    "    print(f\"  有效交易价格: ${effective_price:.4f} (原价 + 成本/股)\")\n",
    "    print()\n",
    "    \n",
    "    # 4. 成本结构分析\n",
    "    fees_percentage = (total_fees / total_cost * 100) if total_cost > 0 else 0\n",
    "    slippage_percentage = (total_slippage / total_cost * 100) if total_cost > 0 else 0\n",
    "    \n",
    "    print(\"📊 4. 成本结构分析:\")\n",
    "    print(f\"  交易费用占比: {fees_percentage:.1f}%\")\n",
    "    print(f\"  滑点成本占比: {slippage_percentage:.1f}%\")\n",
    "    \n",
    "    if fees_percentage > slippage_percentage:\n",
    "        print(\"  💡 主要成本来源: 交易费用，建议增加单笔交易规模以摊薄固定成本\")\n",
    "    else:\n",
    "        print(\"  💡 主要成本来源: 滑点成本，建议分批交易或选择流动性更好的时段\")\n",
    "    \n",
    "    # 5. 优化建议\n",
    "    print(\"\\n🎯 5. 交易优化建议:\")\n",
    "    if total_cost_bps < 15:\n",
    "        print(\"  ✅ 总成本较低，当前交易策略合理\")\n",
    "    elif total_cost_bps < 30:\n",
    "        print(\"  ⚠️ 总成本适中，可考虑以下优化:\")\n",
    "        print(\"     - 选择流动性更好的交易时段\")\n",
    "        print(\"     - 适当增加单笔交易规模\")\n",
    "    else:\n",
    "        print(\"  ❌ 总成本较高，强烈建议优化:\")\n",
    "        print(\"     - 使用算法交易分批执行\")\n",
    "        print(\"     - 选择流动性最好的交易时段\")\n",
    "        print(\"     - 考虑使用限价单而非市价单\")\n",
    "    \n",
    "    return {\n",
    "        'symbol': symbol,\n",
    "        'quantity': quantity,\n",
    "        'price': price,\n",
    "        'trade_amount': trade_amount,\n",
    "        'total_fees': total_fees,\n",
    "        'total_slippage': total_slippage,\n",
    "        'total_cost': total_cost,\n",
    "        'total_cost_bps': total_cost_bps,\n",
    "        'effective_price': effective_price,\n",
    "        'fees_percentage': fees_percentage,\n",
    "        'slippage_percentage': slippage_percentage\n",
    "    }\n",
    "\n",
    "# 演示综合交易成本分析\n",
    "print(\"🔍 综合交易成本分析演示:\")\n",
    "print()\n",
    "\n",
    "# 不同规模的交易成本对比\n",
    "test_cases = [\n",
    "    ('AAPL', 100, 230.0, 3, 2),    # 小额交易\n",
    "    ('AAPL', 500, 230.0, 5, 3),    # 中等交易\n",
    "    ('AAPL', 2000, 230.0, 8, 5),   # 大额交易\n",
    "]\n",
    "\n",
    "for i, (symbol, qty, px, market_bps, timing_bps) in enumerate(test_cases, 1):\n",
    "    print(f\"📊 案例 {i}: {symbol} {qty}股 @ ${px}\")\n",
    "    result = comprehensive_trading_cost_analysis(symbol, qty, px, market_bps, timing_bps)\n",
    "    print(\"\\n\" + \"=\" * 80 + \"\\n\")"
   ]
  },
  {
   "cell_type": "markdown",
   "metadata": {},
   "source": [
    "## 4. 真实交易接口\n",
    "\n",
    "⚠️ **警告**: 以下是真实交易操作，会产生实际的买卖订单！"
   ]
  },
  {
   "cell_type": "markdown",
   "metadata": {},
   "source": [
    "### 4.1 下单前准备"
   ]
  },
  {
   "cell_type": "code",
   "execution_count": 17,
   "metadata": {
    "execution": {
     "iopub.execute_input": "2025-08-12T16:10:19.592141Z",
     "iopub.status.busy": "2025-08-12T16:10:19.592141Z",
     "iopub.status.idle": "2025-08-12T16:10:19.663736Z",
     "shell.execute_reply": "2025-08-12T16:10:19.662561Z"
    }
   },
   "outputs": [
    {
     "name": "stdout",
     "output_type": "stream",
     "text": [
      "📊 AAPL 当前价格: $229.65\n",
      "💡 建议限价买入价格: $218.17 (比当前价格低5%)\n"
     ]
    }
   ],
   "source": [
    "# 交易参数设置\n",
    "TRADE_SYMBOL = 'AAPL'  # 交易标的\n",
    "TRADE_QUANTITY = 1     # 交易数量（小量测试）\n",
    "\n",
    "# 获取当前价格作为参考\n",
    "if selected_account:\n",
    "    try:\n",
    "        # 使用get_stock_briefs获取股票报价，返回DataFrame格式\n",
    "        stock_briefs = quote_client.get_stock_briefs([TRADE_SYMBOL])\n",
    "        if stock_briefs is not None and not stock_briefs.empty:\n",
    "            current_price = stock_briefs.iloc[0]['latest_price']\n",
    "        else:\n",
    "            current_price = 0\n",
    "            print(f\"⚠️ 无法获取 {TRADE_SYMBOL} 的价格信息\")\n",
    "        print(f\"📊 {TRADE_SYMBOL} 当前价格: ${current_price:.2f}\")\n",
    "        \n",
    "        # 设置限价单价格（比当前价格低5%，避免立即成交）\n",
    "        limit_price = round(current_price * 0.95, 2)\n",
    "        print(f\"💡 建议限价买入价格: ${limit_price:.2f} (比当前价格低5%)\")\n",
    "        \n",
    "    except Exception as e:\n",
    "        print(f\"❌ 获取当前价格失败: {e}\")\n",
    "        current_price = None\n",
    "        limit_price = None\n",
    "else:\n",
    "    print(\"⚠️ 未选择账户，跳过价格查询\")"
   ]
  },
  {
   "cell_type": "markdown",
   "metadata": {},
   "source": [
    "### 4.2 限价买入订单"
   ]
  },
  {
   "cell_type": "code",
   "execution_count": 18,
   "metadata": {
    "execution": {
     "iopub.execute_input": "2025-08-12T16:10:19.665274Z",
     "iopub.status.busy": "2025-08-12T16:10:19.665274Z",
     "iopub.status.idle": "2025-08-12T16:10:19.786809Z",
     "shell.execute_reply": "2025-08-12T16:10:19.786074Z"
    }
   },
   "outputs": [
    {
     "name": "stdout",
     "output_type": "stream",
     "text": [
      "📝 准备下单:\n",
      "  标的: AAPL\n",
      "  操作: BUY\n",
      "  数量: 1\n",
      "  限价: $218.17\n",
      "🚀 正在执行买入订单...\n",
      "✅ 订单提交成功！订单ID: 40127931473462272\n"
     ]
    }
   ],
   "source": [
    "# 下限价买入订单\n",
    "if selected_account and limit_price:\n",
    "    try:\n",
    "        from tigeropen.common.util.contract_utils import stock_contract\n",
    "        from tigeropen.common.util.order_utils import limit_order\n",
    "        \n",
    "        # 创建合约对象\n",
    "        contract = stock_contract(symbol=TRADE_SYMBOL, currency='USD')\n",
    "        \n",
    "        # 创建限价买入订单\n",
    "        order = limit_order(account=selected_account.account, contract=contract, action='BUY',\n",
    "                          limit_price=limit_price, quantity=TRADE_QUANTITY)\n",
    "        \n",
    "        print(f\"📝 准备下单:\")\n",
    "        print(f\"  标的: {order.contract.symbol}\")\n",
    "        print(f\"  操作: {order.action}\")\n",
    "        print(f\"  数量: {order.quantity}\")\n",
    "        print(f\"  限价: ${order.limit_price:.2f}\")\n",
    "        \n",
    "        # 确认是否执行真实交易\n",
    "        # 直接执行真实交易\n",
    "        print(\"🚀 正在执行买入订单...\")\n",
    "        result = trade_client.place_order(order)\n",
    "        if result:\n",
    "            # 处理不同类型的返回值\n",
    "            if hasattr(result, 'id'):\n",
    "                order_id = result.id\n",
    "            else:\n",
    "                # 如果返回的是订单ID（整数）\n",
    "                order_id = result\n",
    "            print(f\"✅ 订单提交成功！订单ID: {order_id}\")\n",
    "            buy_order_id = order_id\n",
    "        else:\n",
    "            print(\"❌ 订单提交失败\")\n",
    "            buy_order_id = None\n",
    "            \n",
    "    except Exception as e:\n",
    "        print(f\"❌ 下单失败: {e}\")\n",
    "        buy_order_id = None\n",
    "else:\n",
    "    print(\"⚠️ 跳过下单操作\")\n",
    "    buy_order_id = None"
   ]
  },
  {
   "cell_type": "markdown",
   "metadata": {},
   "source": [
    "### 4.3 查询订单状态"
   ]
  },
  {
   "cell_type": "code",
   "execution_count": 19,
   "metadata": {
    "execution": {
     "iopub.execute_input": "2025-08-12T16:10:19.788814Z",
     "iopub.status.busy": "2025-08-12T16:10:19.787813Z",
     "iopub.status.idle": "2025-08-12T16:10:19.897252Z",
     "shell.execute_reply": "2025-08-12T16:10:19.895293Z"
    }
   },
   "outputs": [
    {
     "name": "stdout",
     "output_type": "stream",
     "text": [
      "📋 订单详细信息:\n",
      "  订单ID: 40127931473462272\n",
      "  外部订单ID: 2649\n",
      "  股票代码: AAPL\n",
      "  股票名称: None\n",
      "  订单状态: OrderStatus.EXPIRED\n",
      "  订单类型: LMT\n",
      "  交易方向: BUY\n",
      "  订单数量: 1\n",
      "  已成交数量: 0\n",
      "  剩余数量: 1\n",
      "  限价价格: $218.17\n",
      "  平均成交价: $0.00\n",
      "  订单时间: 1755051020000\n",
      "  更新时间: 1755051020000\n",
      "  手续费: $0.00\n",
      "  币种: USD\n",
      "  市场: US\n",
      "  有效期: DAY\n",
      "  盘前盘后: True\n",
      "  订单来源: openapi\n"
     ]
    }
   ],
   "source": [
    "# 查询订单状态\n",
    "if buy_order_id:\n",
    "    try:\n",
    "        order_status = trade_client.get_order(id=buy_order_id)\n",
    "        print(f\"📋 订单详细信息:\")\n",
    "        print(f\"  订单ID: {order_status.id}\")\n",
    "        print(f\"  外部订单ID: {getattr(order_status, 'order_id', 'N/A')}\")\n",
    "        print(f\"  股票代码: {getattr(order_status.contract, 'symbol', 'N/A') if hasattr(order_status, 'contract') and order_status.contract else 'N/A'}\")\n",
    "        print(f\"  股票名称: {getattr(order_status.contract, 'local_symbol', 'N/A') if hasattr(order_status, 'contract') and order_status.contract else 'N/A'}\")\n",
    "        print(f\"  订单状态: {order_status.status}\")\n",
    "        print(f\"  订单类型: {getattr(order_status, 'order_type', 'N/A')}\")\n",
    "        print(f\"  交易方向: {getattr(order_status, 'action', 'N/A')}\")\n",
    "        print(f\"  订单数量: {getattr(order_status, 'quantity', 'N/A')}\")\n",
    "        print(f\"  已成交数量: {order_status.filled}\")\n",
    "        print(f\"  剩余数量: {order_status.remaining}\")\n",
    "        print(f\"  限价价格: ${getattr(order_status, 'limit_price', 0):.2f}\")\n",
    "        print(f\"  平均成交价: ${getattr(order_status, 'avg_fill_price', 0):.2f}\")\n",
    "        print(f\"  订单时间: {getattr(order_status, 'order_time', 'N/A')}\")\n",
    "        print(f\"  更新时间: {getattr(order_status, 'update_time', 'N/A')}\")\n",
    "        print(f\"  手续费: ${getattr(order_status, 'commission', 0):.2f}\")\n",
    "        print(f\"  币种: {getattr(order_status.contract, 'currency', 'N/A') if hasattr(order_status, 'contract') and order_status.contract else 'N/A'}\")\n",
    "        print(f\"  市场: {getattr(order_status.contract, 'market', 'N/A') if hasattr(order_status, 'contract') and order_status.contract else 'N/A'}\")\n",
    "        print(f\"  有效期: {getattr(order_status, 'time_in_force', 'N/A')}\")\n",
    "        print(f\"  盘前盘后: {getattr(order_status, 'outside_rth', 'N/A')}\")\n",
    "        print(f\"  订单来源: {getattr(order_status, 'source', 'N/A')}\")\n",
    "        if hasattr(order_status, 'remark') and order_status.remark:\n",
    "            print(f\"  备注信息: {order_status.remark}\")\n",
    "        \n",
    "    except Exception as e:\n",
    "        print(f\"❌ 查询订单状态失败: {e}\")\n",
    "else:\n",
    "    print(\"⚠️ 无订单ID，跳过状态查询\")"
   ]
  },
  {
   "cell_type": "markdown",
   "metadata": {},
   "source": [
    "### 4.4 获取订单列表"
   ]
  },
  {
   "cell_type": "code",
   "execution_count": 20,
   "metadata": {
    "execution": {
     "iopub.execute_input": "2025-08-12T16:10:19.903168Z",
     "iopub.status.busy": "2025-08-12T16:10:19.902179Z",
     "iopub.status.idle": "2025-08-12T16:10:20.143394Z",
     "shell.execute_reply": "2025-08-12T16:10:20.142774Z"
    }
   },
   "outputs": [
    {
     "name": "stdout",
     "output_type": "stream",
     "text": [
      "📋 最近订单列表 (最多显示5个):\n",
      "  订单1:\n",
      "    ID: 40127931473462272\n",
      "    标的: AAPL\n",
      "    操作: BUY\n",
      "    数量: 1\n",
      "    状态: OrderStatus.EXPIRED\n",
      "    时间: 2025-08-13 10:10:20\n",
      "    ---\n",
      "  订单2:\n",
      "    ID: 40127926314469376\n",
      "    标的: QQQ\n",
      "    操作: BUY\n",
      "    数量: 1\n",
      "    状态: OrderStatus.EXPIRED\n",
      "    时间: 2025-08-13 10:09:41\n",
      "    ---\n",
      "  订单3:\n",
      "    ID: 40127926294151168\n",
      "    标的: TSLA\n",
      "    操作: BUY\n",
      "    数量: 1\n",
      "    状态: OrderStatus.EXPIRED\n",
      "    时间: 2025-08-13 10:09:41\n",
      "    ---\n",
      "  订单4:\n",
      "    ID: 40127926275539968\n",
      "    标的: AAPL\n",
      "    操作: BUY\n",
      "    数量: 1\n",
      "    状态: OrderStatus.EXPIRED\n",
      "    时间: 2025-08-13 10:09:41\n",
      "    ---\n",
      "  订单5:\n",
      "    ID: 40127920857024512\n",
      "    标的: AAPL\n",
      "    操作: BUY\n",
      "    数量: 1\n",
      "    状态: OrderStatus.EXPIRED\n",
      "    时间: 2025-08-13 10:08:59\n",
      "    ---\n"
     ]
    }
   ],
   "source": [
    "# 获取最近订单列表\n",
    "if selected_account:\n",
    "    try:\n",
    "        orders = trade_client.get_orders(account=selected_account.account)\n",
    "        print(f\"📋 最近订单列表 (最多显示5个):\")\n",
    "        \n",
    "        for i, order in enumerate(orders[:5]):\n",
    "            print(f\"  订单{i+1}:\")\n",
    "            print(f\"    ID: {order.id}\")\n",
    "            print(f\"    标的: {order.contract.symbol}\")\n",
    "            print(f\"    操作: {order.action}\")\n",
    "            print(f\"    数量: {order.quantity}\")\n",
    "            print(f\"    状态: {order.status}\")\n",
    "            print(f\"    时间: {datetime.fromtimestamp(order.order_time/1000)}\")\n",
    "            print(\"    ---\")\n",
    "            \n",
    "    except Exception as e:\n",
    "        print(f\"❌ 获取订单列表失败: {e}\")\n",
    "else:\n",
    "    print(\"⚠️ 未选择账户，跳过订单查询\")"
   ]
  },
  {
   "cell_type": "markdown",
   "metadata": {},
   "source": [
    "### 4.5 撤销订单"
   ]
  },
  {
   "cell_type": "code",
   "execution_count": 21,
   "metadata": {
    "execution": {
     "iopub.execute_input": "2025-08-12T16:10:20.147819Z",
     "iopub.status.busy": "2025-08-12T16:10:20.146820Z",
     "iopub.status.idle": "2025-08-12T16:10:20.270169Z",
     "shell.execute_reply": "2025-08-12T16:10:20.267965Z"
    }
   },
   "outputs": [
    {
     "name": "stdout",
     "output_type": "stream",
     "text": [
      "🚀 正在撤销订单 40127931473462272...\n",
      "✅ 订单撤销成功！\n"
     ]
    }
   ],
   "source": [
    "# 撤销订单\n",
    "if buy_order_id:\n",
    "    try:\n",
    "        # 确认是否撤销\n",
    "        # 直接执行撤单操作\n",
    "        print(f\"🚀 正在撤销订单 {buy_order_id}...\")\n",
    "        cancel_result = trade_client.cancel_order(id=buy_order_id)\n",
    "        if cancel_result:\n",
    "            print(f\"✅ 订单撤销成功！\")\n",
    "        else:\n",
    "            print(\"❌ 订单撤销失败\")\n",
    "            \n",
    "    except Exception as e:\n",
    "        print(f\"❌ 撤销订单失败: {e}\")\n",
    "else:\n",
    "    print(\"⚠️ 无订单ID，跳过撤销操作\")"
   ]
  },
  {
   "cell_type": "markdown",
   "metadata": {},
   "source": [
    "### 4.6 市价单示例"
   ]
  },
  {
   "cell_type": "code",
   "execution_count": 22,
   "metadata": {
    "execution": {
     "iopub.execute_input": "2025-08-12T16:10:20.275865Z",
     "iopub.status.busy": "2025-08-12T16:10:20.275865Z",
     "iopub.status.idle": "2025-08-12T16:10:20.426444Z",
     "shell.execute_reply": "2025-08-12T16:10:20.424676Z"
    }
   },
   "outputs": [
    {
     "name": "stdout",
     "output_type": "stream",
     "text": [
      "📝 市价单准备:\n",
      "  标的: AAPL\n",
      "  操作: BUY\n",
      "  数量: 1\n",
      "  类型: 市价单\n",
      "🚀 正在执行市价单...\n",
      "❌ 市价单下单失败: code=1200 msg=standard account response error(bad_request:当前时段不支持下单)\n",
      "💡 市价单函数已定义，需要时可以调用\n"
     ]
    }
   ],
   "source": [
    "# 市价单示例（谨慎使用）\n",
    "def place_market_order(symbol, action, quantity, account=None, client=None):\n",
    "    \"\"\"下市价单\"\"\"\n",
    "    # 获取交易客户端和账户\n",
    "    if client is None:\n",
    "        client = globals().get('trade_client')\n",
    "    if account is None:\n",
    "        account = globals().get('selected_account')\n",
    "    \n",
    "    if not client:\n",
    "        print(\"❌ 交易客户端未初始化，请先运行客户端初始化代码\")\n",
    "        return None\n",
    "        \n",
    "    if not account:\n",
    "        print(\"❌ 未选择账户，请先运行账户选择代码\")\n",
    "        return None\n",
    "        \n",
    "    try:\n",
    "        from tigeropen.trade.domain.order import Order\n",
    "        from tigeropen.common.consts import SecurityType, OrderType\n",
    "        from tigeropen.common.util.contract_utils import stock_contract\n",
    "        \n",
    "        # 创建合约对象\n",
    "        contract = stock_contract(symbol=symbol, currency='USD')\n",
    "        \n",
    "        # 创建订单对象（使用正确的构造函数参数）\n",
    "        order = Order(account=account.account, contract=contract, action=action)\n",
    "        order.order_type = 'MKT'\n",
    "        order.quantity = quantity\n",
    "        order.time_in_force = 'DAY'\n",
    "        \n",
    "        print(f\"📝 市价单准备:\")\n",
    "        print(f\"  标的: {symbol}\")\n",
    "        print(f\"  操作: {action}\")\n",
    "        print(f\"  数量: {quantity}\")\n",
    "        print(f\"  类型: 市价单\")\n",
    "        \n",
    "        print(\"🚀 正在执行市价单...\")\n",
    "        result = trade_client.place_order(order)\n",
    "        if result:\n",
    "            # 处理不同类型的返回值\n",
    "            if hasattr(result, 'id'):\n",
    "                order_id = result.id\n",
    "            else:\n",
    "                # 如果返回的是订单ID（整数）\n",
    "                order_id = result\n",
    "            print(f\"✅ 市价单提交成功！订单ID: {order_id}\")\n",
    "            return order_id\n",
    "        else:\n",
    "            print(\"❌ 市价单提交失败\")\n",
    "            return None\n",
    "            \n",
    "    except Exception as e:\n",
    "        print(f\"❌ 市价单下单失败: {e}\")\n",
    "        return None\n",
    "\n",
    "# 示例调用\n",
    "market_order_id = place_market_order('AAPL', 'BUY', 1)\n",
    "print(\"💡 市价单函数已定义，需要时可以调用\")"
   ]
  },
  {
   "cell_type": "markdown",
   "metadata": {},
   "source": [
    "## 5. 期权数据接口"
   ]
  },
  {
   "cell_type": "markdown",
   "metadata": {},
   "source": [
    "### 5.1 获取期权链"
   ]
  },
  {
   "cell_type": "code",
   "execution_count": 23,
   "metadata": {
    "execution": {
     "iopub.execute_input": "2025-08-12T16:10:20.431482Z",
     "iopub.status.busy": "2025-08-12T16:10:20.430445Z",
     "iopub.status.idle": "2025-08-12T16:10:20.505336Z",
     "shell.execute_reply": "2025-08-12T16:10:20.503587Z"
    }
   },
   "outputs": [
    {
     "name": "stdout",
     "output_type": "stream",
     "text": [
      "📅 AAPL 期权到期日 (前5个):\n",
      "  1. 2025-08-15\n",
      "  2. 2025-08-22\n",
      "  3. 2025-08-29\n",
      "  4. 2025-09-05\n",
      "  5. 2025-09-12\n",
      "✅ 选择到期日: 2025-08-15\n"
     ]
    }
   ],
   "source": [
    "# 获取期权链\n",
    "option_symbol = 'AAPL'\n",
    "\n",
    "try:\n",
    "    # 获取期权到期日\n",
    "    expiry_dates = quote_client.get_option_expirations(symbols=[option_symbol])\n",
    "    \n",
    "    if expiry_dates is not None and len(expiry_dates) > 0:\n",
    "        print(f\"📅 {option_symbol} 期权到期日 (前5个):\")\n",
    "        # expiry_dates 是 DataFrame 格式，需要正确处理\n",
    "        for i, row in expiry_dates.head(5).iterrows():\n",
    "            # 根据实际返回的列名获取日期\n",
    "            date = row.get('date', row.get('expiry', row.get('expiration_date', str(row))))\n",
    "            print(f\"  {i+1}. {date}\")\n",
    "            \n",
    "        # 选择最近的到期日\n",
    "        # 从DataFrame中获取第一行的日期数据\n",
    "        first_row = expiry_dates.iloc[0]\n",
    "        nearest_expiry = first_row.get('date', first_row.get('expiry', first_row.get('expiration_date', str(first_row))))\n",
    "        print(f\"✅ 选择到期日: {nearest_expiry}\")\n",
    "        \n",
    "    else:\n",
    "        print(f\"❌ 未找到 {option_symbol} 的期权到期日\")\n",
    "        nearest_expiry = None\n",
    "        \n",
    "except Exception as e:\n",
    "    print(f\"❌ 获取期权到期日失败: {e}\")\n",
    "    nearest_expiry = None"
   ]
  },
  {
   "cell_type": "code",
   "execution_count": 24,
   "metadata": {
    "execution": {
     "iopub.execute_input": "2025-08-12T16:10:20.506841Z",
     "iopub.status.busy": "2025-08-12T16:10:20.506841Z",
     "iopub.status.idle": "2025-08-12T16:10:20.663448Z",
     "shell.execute_reply": "2025-08-12T16:10:20.660667Z"
    }
   },
   "outputs": [
    {
     "name": "stdout",
     "output_type": "stream",
     "text": [
      "  看涨期权数量: 72\n",
      "  看跌期权数量: 72\n",
      "  总期权数量: 144\n",
      "  看涨期权 (前3个):\n",
      "    1. AAPL - 行权价: $90.0 - 最新价: $138.6\n",
      "    2. AAPL - 行权价: $95.0 - 最新价: $134.48\n",
      "    3. AAPL - 行权价: $100.0 - 最新价: $127.65\n",
      "  看跌期权 (前3个):\n",
      "    1. AAPL - 行权价: $90.0 - 最新价: $0.01\n",
      "    2. AAPL - 行权价: $95.0 - 最新价: $0.01\n",
      "    3. AAPL - 行权价: $100.0 - 最新价: $0.01\n"
     ]
    }
   ],
   "source": [
    "# 获取期权链数据\n",
    "if nearest_expiry:\n",
    "    try:\n",
    "        option_chain = quote_client.get_option_chain(\n",
    "            symbol=option_symbol,\n",
    "            expiry=nearest_expiry\n",
    "        )\n",
    "        if option_chain is not None:\n",
    "            # option_chain是DataFrame，需要按put_call列筛选\n",
    "            calls = option_chain[option_chain['put_call'] == 'CALL'] if 'put_call' in option_chain.columns else pd.DataFrame()\n",
    "            puts = option_chain[option_chain['put_call'] == 'PUT'] if 'put_call' in option_chain.columns else pd.DataFrame()\n",
    "            \n",
    "            print(f\"  看涨期权数量: {len(calls)}\")\n",
    "            print(f\"  看跌期权数量: {len(puts)}\")\n",
    "            print(f\"  总期权数量: {len(option_chain)}\")\n",
    "            \n",
    "            if len(calls) > 0:\n",
    "                print(\"  看涨期权 (前3个):\")\n",
    "                for i, (idx, call) in enumerate(calls.head(3).iterrows()):\n",
    "                    print(f\"    {i+1}. {call['symbol']} - 行权价: ${call['strike']} - 最新价: ${call['latest_price']}\")\n",
    "            \n",
    "            if len(puts) > 0:\n",
    "                print(\"  看跌期权 (前3个):\")\n",
    "                for i, (idx, put) in enumerate(puts.head(3).iterrows()):\n",
    "                    print(f\"    {i+1}. {put['symbol']} - 行权价: ${put['strike']} - 最新价: ${put['latest_price']}\")\n",
    "        else:\n",
    "            print(\"❌ 未获取到期权链数据\")\n",
    "            \n",
    "    except Exception as e:\n",
    "        print(f\"❌ 获取期权链失败: {e}\")\n",
    "else:\n",
    "    print(\"⚠️ 无到期日信息，跳过期权链查询\")"
   ]
  },
  {
   "cell_type": "markdown",
   "metadata": {},
   "source": [
    "### 5.2 获取期权报价"
   ]
  },
  {
   "cell_type": "code",
   "execution_count": 25,
   "metadata": {
    "execution": {
     "iopub.execute_input": "2025-08-12T16:10:20.666716Z",
     "iopub.status.busy": "2025-08-12T16:10:20.666202Z",
     "iopub.status.idle": "2025-08-12T16:10:20.741117Z",
     "shell.execute_reply": "2025-08-12T16:10:20.739594Z"
    }
   },
   "outputs": [
    {
     "name": "stdout",
     "output_type": "stream",
     "text": [
      "📊 期权合约:\n",
      "  看涨: AAPL  250815C00135000\n",
      "  看跌: AAPL  250815P00135000\n",
      "💰 期权报价:\n",
      "  AAPL  250815C00135000:\n",
      "    最新价: $91.45\n",
      "    买价: $93.95\n",
      "    卖价: $95.30\n",
      "    成交量: 0\n",
      "    行权价: $135.00\n",
      "    期权类型: CALL\n",
      "    ---\n",
      "  AAPL  250815P00135000:\n",
      "    最新价: $0.01\n",
      "    买价: $nan\n",
      "    卖价: $0.01\n",
      "    成交量: 0\n",
      "    行权价: $135.00\n",
      "    期权类型: PUT\n",
      "    ---\n"
     ]
    }
   ],
   "source": [
    "# 获取期权报价\n",
    "if nearest_expiry:\n",
    "    try:\n",
    "        # 从期权链中获取实际的期权标识符\n",
    "        if option_chain is not None and not option_chain.empty:\n",
    "            # 获取看涨和看跌期权\n",
    "            calls = option_chain[option_chain['put_call'] == 'CALL']\n",
    "            puts = option_chain[option_chain['put_call'] == 'PUT']\n",
    "            \n",
    "            if not calls.empty and not puts.empty:\n",
    "                # 选择接近当前价格的期权（例如第10个）\n",
    "                call_idx = min(9, len(calls) - 1)  # 防止索引越界\n",
    "                put_idx = min(9, len(puts) - 1)\n",
    "                \n",
    "                call_symbol = calls.iloc[call_idx]['identifier']\n",
    "                put_symbol = puts.iloc[put_idx]['identifier']\n",
    "                \n",
    "                print(f\"📊 期权合约:\")\n",
    "                print(f\"  看涨: {call_symbol}\")\n",
    "                print(f\"  看跌: {put_symbol}\")\n",
    "                \n",
    "                # 获取期权报价\n",
    "                option_quotes = quote_client.get_option_briefs([call_symbol, put_symbol])\n",
    "            else:\n",
    "                print(\"❌ 期权链中没有找到看涨或看跌期权\")\n",
    "                option_quotes = None\n",
    "        else:\n",
    "            print(\"❌ 期权链数据为空\")\n",
    "            option_quotes = None\n",
    "        \n",
    "        # 处理期权报价结果\n",
    "        if option_quotes is not None and not option_quotes.empty:\n",
    "            print(\"💰 期权报价:\")\n",
    "            for idx, quote in option_quotes.iterrows():\n",
    "                print(f\"  {quote['identifier']}:\")\n",
    "                # 安全格式化数值字段\n",
    "                latest_price = float(quote['latest_price']) if quote['latest_price'] not in [None, '', 'N/A'] else 0.0\n",
    "                bid_price = float(quote['bid_price']) if quote['bid_price'] not in [None, '', 'N/A'] else 0.0\n",
    "                ask_price = float(quote['ask_price']) if quote['ask_price'] not in [None, '', 'N/A'] else 0.0\n",
    "                strike = float(quote['strike']) if quote['strike'] not in [None, '', 'N/A'] else 0.0\n",
    "                volume = int(quote['volume']) if quote['volume'] not in [None, '', 'N/A'] else 0\n",
    "                \n",
    "                print(f\"    最新价: ${latest_price:.2f}\")\n",
    "                print(f\"    买价: ${bid_price:.2f}\")\n",
    "                print(f\"    卖价: ${ask_price:.2f}\")\n",
    "                print(f\"    成交量: {volume}\")\n",
    "                print(f\"    行权价: ${strike:.2f}\")\n",
    "                print(f\"    期权类型: {quote['put_call']}\")\n",
    "                print(\"    ---\")\n",
    "        else:\n",
    "            print(\"❌ 未获取到期权报价\")\n",
    "            \n",
    "    except Exception as e:\n",
    "        print(f\"❌ 获取期权报价失败: {e}\")\n",
    "else:\n",
    "    print(\"⚠️ 无到期日信息，跳过期权报价查询\")"
   ]
  },
  {
   "cell_type": "markdown",
   "metadata": {},
   "source": [
    "## 6. 推送服务接口"
   ]
  },
  {
   "cell_type": "markdown",
   "metadata": {},
   "source": [
    "### 6.1 实时报价推送"
   ]
  },
  {
   "cell_type": "code",
   "execution_count": null,
   "metadata": {
    "execution": {
     "iopub.execute_input": "2025-08-12T16:10:20.744245Z",
     "iopub.status.busy": "2025-08-12T16:10:20.744245Z",
     "iopub.status.idle": "2025-08-12T16:10:20.755422Z",
     "shell.execute_reply": "2025-08-12T16:10:20.754769Z"
    }
   },
   "outputs": [
    {
     "name": "stderr",
     "output_type": "stream",
     "text": [
      "2025-08-13 10:07:46,772 - INFO - established connection to host openapi.tigerfintech.com, port 9883\n"
     ]
    },
    {
     "name": "stdout",
     "output_type": "stream",
     "text": [
      "🚀 启动实时报价推送演示...\n",
      "📡 开始推送 ['AAPL', 'TSLA'] 报价，持续 10 秒...\n",
      "📡 报价推送已停止\n"
     ]
    },
    {
     "name": "stderr",
     "output_type": "stream",
     "text": [
      "2025-08-13 10:07:56,951 - INFO - established connection to host openapi.tigerfintech.com, port 9883\n"
     ]
    }
   ],
   "source": [
    "# 实时报价推送示例\n",
    "def on_quote_changed(quote_data):\n",
    "    \"\"\"报价推送回调函数\"\"\"\n",
    "    print(f\"📡 收到报价推送数据: {type(quote_data)}\")\n",
    "    try:\n",
    "        # 尝试解析推送数据\n",
    "        if hasattr(quote_data, 'symbol'):\n",
    "            print(f\"  股票代码: {quote_data.symbol}\")\n",
    "        if hasattr(quote_data, 'latest_price') and quote_data.latest_price:\n",
    "            print(f\"  最新价格: ${quote_data.latest_price:.2f}\")\n",
    "        if hasattr(quote_data, 'volume') and quote_data.volume:\n",
    "            print(f\"  成交量: {quote_data.volume}\")\n",
    "        if hasattr(quote_data, 'timestamp'):\n",
    "            print(f\"  时间戳: {quote_data.timestamp}\")\n",
    "    except Exception as e:\n",
    "        print(f\"  解析数据时出错: {e}\")\n",
    "        print(f\"  原始数据: {quote_data}\")\n",
    "\n",
    "def start_quote_push(symbols, duration=30):\n",
    "    \"\"\"启动报价推送\"\"\"\n",
    "    try:\n",
    "        # 连接推送服务\n",
    "        push_client.connect(client_config.tiger_id, client_config.private_key)\n",
    "        \n",
    "        # 绑定回调函数\n",
    "        push_client.quote_changed = on_quote_changed\n",
    "        \n",
    "        # 订阅报价推送（不需要callback参数）\n",
    "        push_client.subscribe_quote(symbols=symbols)\n",
    "        print(f\"📡 开始推送 {symbols} 报价，持续 {duration} 秒...\")\n",
    "        \n",
    "        # 等待推送数据\n",
    "        time.sleep(duration)\n",
    "        \n",
    "        # 取消订阅\n",
    "        push_client.unsubscribe_quote(symbols=symbols)\n",
    "        print(\"📡 报价推送已停止\")\n",
    "        \n",
    "        # 断开连接\n",
    "        push_client.disconnect()\n",
    "        \n",
    "    except Exception as e:\n",
    "        print(f\"❌ 报价推送失败: {e}\")\n",
    "\n",
    "# 示例调用\n",
    "if push_client is not None:\n",
    "    print(\"🚀 启动实时报价推送演示...\")\n",
    "    start_quote_push(['AAPL', 'TSLA'], 10)\n",
    "else:\n",
    "    print(\"⚠️ 推送客户端未初始化，无法启动报价推送\")\n",
    "    print(\"💡 报价推送函数已定义，需要时可以调用\")"
   ]
  },
  {
   "cell_type": "markdown",
   "metadata": {},
   "source": [
    "### 6.2 订单状态推送"
   ]
  },
  {
   "cell_type": "code",
   "execution_count": null,
   "metadata": {
    "execution": {
     "iopub.execute_input": "2025-08-12T16:10:20.756932Z",
     "iopub.status.busy": "2025-08-12T16:10:20.756932Z",
     "iopub.status.idle": "2025-08-12T16:10:20.772183Z",
     "shell.execute_reply": "2025-08-12T16:10:20.770495Z"
    }
   },
   "outputs": [
    {
     "name": "stderr",
     "output_type": "stream",
     "text": [
      "2025-08-13 10:07:56,941 - INFO - established connection to host openapi.tigerfintech.com, port 9883\n"
     ]
    },
    {
     "name": "stdout",
     "output_type": "stream",
     "text": [
      "🚀 启动订单状态推送演示...\n",
      "📋 开始推送订单状态，持续 30 秒...\n"
     ]
    },
    {
     "name": "stderr",
     "output_type": "stream",
     "text": [
      "2025-08-13 10:07:57,046 - ERROR - command: ERROR\n",
      "id: 0\n",
      "code: 4001\n",
      "msg: \"kick out by a new connection\"\n",
      "\n"
     ]
    },
    {
     "name": "stdout",
     "output_type": "stream",
     "text": [
      "📋 订单推送已停止\n"
     ]
    },
    {
     "name": "stderr",
     "output_type": "stream",
     "text": [
      "2025-08-13 10:08:27,095 - INFO - established connection to host openapi.tigerfintech.com, port 9883\n"
     ]
    }
   ],
   "source": [
    "# 订单状态推送示例\n",
    "def on_order_changed(order_data):\n",
    "    \"\"\"订单推送回调函数\"\"\"\n",
    "    print(f\"📋 收到订单推送: {order_data}\")\n",
    "    if hasattr(order_data, 'symbol'):\n",
    "        print(f\"  标的: {order_data.symbol}\")\n",
    "    if hasattr(order_data, 'status'):\n",
    "        print(f\"  状态: {order_data.status}\")\n",
    "\n",
    "def start_order_push(duration=60, account=None):\n",
    "    \"\"\"启动订单推送\"\"\"\n",
    "    # 获取账户\n",
    "    if account is None:\n",
    "        account = globals().get('selected_account')\n",
    "    \n",
    "    if not account:\n",
    "        print(\"❌ 未选择账户，请先运行账户选择代码\")\n",
    "        return\n",
    "        \n",
    "    try:\n",
    "        # 连接推送服务\n",
    "        push_client.connect(client_config.tiger_id, client_config.private_key)\n",
    "        \n",
    "        # 绑定回调函数\n",
    "        push_client.order_changed = on_order_changed\n",
    "        \n",
    "        # 订阅订单推送（不需要callback参数）\n",
    "        push_client.subscribe_order(account.account)\n",
    "        print(f\"📋 开始推送订单状态，持续 {duration} 秒...\")\n",
    "        \n",
    "        # 等待推送数据\n",
    "        time.sleep(duration)\n",
    "        \n",
    "        # 取消订阅\n",
    "        push_client.unsubscribe_order()\n",
    "        print(\"📋 订单推送已停止\")\n",
    "        \n",
    "        # 断开连接\n",
    "        push_client.disconnect()\n",
    "        \n",
    "    except Exception as e:\n",
    "        print(f\"❌ 订单推送失败: {e}\")\n",
    "\n",
    "# 示例调用\n",
    "if push_client is not None:\n",
    "    print(\"🚀 启动订单状态推送演示...\")\n",
    "    start_order_push(30)\n",
    "else:\n",
    "    print(\"⚠️ 推送客户端未初始化，无法启动订单推送\")\n",
    "    print(\"💡 订单推送函数已定义，需要时可以调用\")"
   ]
  },
  {
   "cell_type": "markdown",
   "metadata": {},
   "source": [
    "## 7. 高级功能演示"
   ]
  },
  {
   "cell_type": "markdown",
   "metadata": {},
   "source": [
    "### 7.1 批量下单"
   ]
  },
  {
   "cell_type": "code",
   "execution_count": 28,
   "metadata": {
    "execution": {
     "iopub.execute_input": "2025-08-12T16:10:20.775201Z",
     "iopub.status.busy": "2025-08-12T16:10:20.774679Z",
     "iopub.status.idle": "2025-08-12T16:10:21.207395Z",
     "shell.execute_reply": "2025-08-12T16:10:21.206808Z"
    }
   },
   "outputs": [
    {
     "name": "stdout",
     "output_type": "stream",
     "text": [
      "💡 批量下单示例:\n",
      "📝 批量订单 1: AAPL BUY 1@$150.00\n",
      "📝 批量订单 2: TSLA BUY 1@$200.00\n",
      "📝 批量订单 3: QQQ BUY 1@$300.00\n"
     ]
    },
    {
     "data": {
      "text/plain": [
       "[40127936889749504, 40127936909150208, 40127936928940032]"
      ]
     },
     "execution_count": 28,
     "metadata": {},
     "output_type": "execute_result"
    }
   ],
   "source": [
    "# 批量下单示例\n",
    "def batch_place_orders(order_configs, account=None, client=None):\n",
    "    \"\"\"批量下单\n",
    "    \n",
    "    Args:\n",
    "        order_configs: 订单配置列表，每个配置包含symbol, action, quantity, price等\n",
    "        account: 交易账户，如果为None则自动获取\n",
    "        client: 交易客户端，如果为None则自动获取\n",
    "    \"\"\"\n",
    "    # 获取交易客户端和账户\n",
    "    if client is None:\n",
    "        client = globals().get('trade_client')\n",
    "    if account is None:\n",
    "        account = globals().get('selected_account')\n",
    "    \n",
    "    if not client:\n",
    "        print(\"❌ 交易客户端未初始化，请先运行客户端初始化代码\")\n",
    "        return []\n",
    "        \n",
    "    if not account:\n",
    "        print(\"❌ 未选择账户，请先运行账户选择代码\")\n",
    "        return []\n",
    "        \n",
    "    order_ids = []\n",
    "    \n",
    "    for i, config in enumerate(order_configs):\n",
    "        try:\n",
    "            from tigeropen.trade.domain.order import Order\n",
    "            from tigeropen.common.consts import SecurityType, OrderType\n",
    "            from tigeropen.common.util.contract_utils import stock_contract\n",
    "            \n",
    "            # 创建合约对象\n",
    "            contract = stock_contract(symbol=config['symbol'], currency='USD')\n",
    "            \n",
    "            # 创建订单对象（使用正确的构造函数参数）\n",
    "            order = Order(account=account.account, contract=contract, action=config['action'])\n",
    "            order.order_type = 'LMT'\n",
    "            order.quantity = config['quantity']\n",
    "            order.limit_price = round(config['price'], 2)\n",
    "            order.time_in_force = 'DAY'\n",
    "            \n",
    "            print(f\"📝 批量订单 {i+1}: {config['symbol']} {config['action']} {config['quantity']}@${config['price']:.2f}\")\n",
    "            \n",
    "            # 执行批量订单\n",
    "            result = trade_client.place_order(order)\n",
    "            if result:\n",
    "                # 处理不同类型的返回值\n",
    "                if hasattr(result, 'id'):\n",
    "                    order_id = result.id\n",
    "                else:\n",
    "                    # 如果返回的是订单ID（整数）\n",
    "                    order_id = result\n",
    "                order_ids.append(order_id)\n",
    "            \n",
    "        except Exception as e:\n",
    "            print(f\"❌ 批量订单 {i+1} 失败: {e}\")\n",
    "            \n",
    "    return order_ids\n",
    "\n",
    "# 示例配置\n",
    "sample_orders = [\n",
    "    {'symbol': 'AAPL', 'action': 'BUY', 'quantity': 1, 'price': 150.0},\n",
    "    {'symbol': 'TSLA', 'action': 'BUY', 'quantity': 1, 'price': 200.0},\n",
    "    {'symbol': 'QQQ', 'action': 'BUY', 'quantity': 1, 'price': 300.0}\n",
    "]\n",
    "\n",
    "print(\"💡 批量下单示例:\")\n",
    "batch_place_orders(sample_orders)"
   ]
  },
  {
   "cell_type": "markdown",
   "metadata": {},
   "source": [
    "### 7.2 智能交易策略"
   ]
  },
  {
   "cell_type": "code",
   "execution_count": 29,
   "metadata": {
    "execution": {
     "iopub.execute_input": "2025-08-12T16:10:21.209399Z",
     "iopub.status.busy": "2025-08-12T16:10:21.208399Z",
     "iopub.status.idle": "2025-08-12T16:10:21.286405Z",
     "shell.execute_reply": "2025-08-12T16:10:21.283998Z"
    }
   },
   "outputs": [
    {
     "name": "stdout",
     "output_type": "stream",
     "text": [
      "📊 AAPL 策略分析:\n",
      "  当前价格: $229.65\n",
      "  20日均价: $213.50\n",
      "  偏离度: 7.56%\n",
      "📉 交易信号: 卖出 (价格高于均值 2.0%)\n",
      "💰 预期盈利: $16.15 (7.03%)\n"
     ]
    }
   ],
   "source": [
    "# 简单的均值回归策略示例\n",
    "import time\n",
    "import numpy as np\n",
    "import pandas as pd\n",
    "\n",
    "def mean_reversion_strategy(symbol, lookback_days=20, threshold=0.02, quote_client=None):\n",
    "    \"\"\"均值回归策略\n",
    "    \n",
    "    Args:\n",
    "        symbol: 交易标的\n",
    "        lookback_days: 回看天数\n",
    "        threshold: 偏离阈值\n",
    "    \"\"\"\n",
    "    try:\n",
    "        # 获取历史数据 - 确保获取足够的交易日数据\n",
    "        end_time = int(time.time() * 1000)\n",
    "        # 考虑到周末和节假日，使用更大的时间范围确保获取足够数据\n",
    "        begin_time = end_time - lookback_days * 3 * 24 * 60 * 60 * 1000  # 扩大到3倍时间范围\n",
    "        \n",
    "        bars = quote_client.get_bars(\n",
    "            symbols=[symbol],\n",
    "            period=BarPeriod.DAY,\n",
    "            begin_time=begin_time,\n",
    "            end_time=end_time,\n",
    "            right=QuoteRight.BR\n",
    "        )\n",
    "        \n",
    "        if bars is None:\n",
    "            print(f\"❌ {symbol} 无法获取历史数据\")\n",
    "            return None\n",
    "            \n",
    "        # 计算均价和当前价格\n",
    "        if isinstance(bars, pd.DataFrame):\n",
    "            prices = bars['close'].values[-lookback_days:]  # 取最近lookback_days天的数据\n",
    "        else:\n",
    "            prices = [bar.close for bar in bars[-lookback_days:]]\n",
    "        \n",
    "        mean_price = np.mean(prices)\n",
    "        current_price = prices[-1]\n",
    "        \n",
    "        # 计算偏离度\n",
    "        deviation = (current_price - mean_price) / mean_price\n",
    "        \n",
    "        print(f\"📊 {symbol} 策略分析:\")\n",
    "        print(f\"  当前价格: ${current_price:.2f}\")\n",
    "        print(f\"  {lookback_days}日均价: ${mean_price:.2f}\")\n",
    "        print(f\"  偏离度: {deviation:.2%}\")\n",
    "        \n",
    "        # 生成交易信号和预期盈利计算\n",
    "        expected_profit = 0\n",
    "        profit_percentage = 0\n",
    "        \n",
    "        if deviation < -threshold:\n",
    "            signal = 'BUY'\n",
    "            # 买入预期：价格回归到均值的盈利\n",
    "            expected_profit = mean_price - current_price\n",
    "            profit_percentage = expected_profit / current_price\n",
    "            print(f\"📈 交易信号: 买入 (价格低于均值 {threshold:.1%})\")\n",
    "            print(f\"💰 预期盈利: ${expected_profit:.2f} ({profit_percentage:.2%})\")\n",
    "        elif deviation > threshold:\n",
    "            signal = 'SELL'\n",
    "            # 卖出预期：价格回归到均值的盈利（做空收益）\n",
    "            expected_profit = current_price - mean_price\n",
    "            profit_percentage = expected_profit / current_price\n",
    "            print(f\"📉 交易信号: 卖出 (价格高于均值 {threshold:.1%})\")\n",
    "            print(f\"💰 预期盈利: ${expected_profit:.2f} ({profit_percentage:.2%})\")\n",
    "        else:\n",
    "            signal = 'HOLD'\n",
    "            print(f\"⏸️ 交易信号: 持有 (价格在正常范围内)\")\n",
    "            \n",
    "        return {\n",
    "            'symbol': symbol,\n",
    "            'signal': signal,\n",
    "            'current_price': current_price,\n",
    "            'mean_price': mean_price,\n",
    "            'deviation': deviation,\n",
    "            'expected_profit': expected_profit,\n",
    "            'profit_percentage': profit_percentage\n",
    "        }\n",
    "        \n",
    "    except Exception as e:\n",
    "        print(f\"❌ 策略分析失败: {e}\")\n",
    "        return None\n",
    "\n",
    "# 运行策略\n",
    "strategy_result = mean_reversion_strategy('AAPL', 20, 0.02, quote_client)"
   ]
  },
  {
   "cell_type": "markdown",
   "metadata": {},
   "source": [
    "### 7.3 风险管理"
   ]
  },
  {
   "cell_type": "code",
   "execution_count": 30,
   "metadata": {
    "execution": {
     "iopub.execute_input": "2025-08-12T16:10:21.290187Z",
     "iopub.status.busy": "2025-08-12T16:10:21.289663Z",
     "iopub.status.idle": "2025-08-12T16:10:21.474720Z",
     "shell.execute_reply": "2025-08-12T16:10:21.471919Z"
    }
   },
   "outputs": [
    {
     "name": "stdout",
     "output_type": "stream",
     "text": [
      "✅ 风险检查通过:\n",
      "  单笔交易比例: 0.25%\n",
      "  交易后持仓比例: 0.68%\n"
     ]
    }
   ],
   "source": [
    "# 风险管理示例\n",
    "def risk_check(symbol, quantity, price, max_position_pct=0.1, max_single_trade_pct=0.05, account=None, client=None):\n",
    "    \"\"\"风险检查\n",
    "    \n",
    "    Args:\n",
    "        symbol: 交易标的\n",
    "        quantity: 交易数量\n",
    "        price: 交易价格\n",
    "        max_position_pct: 最大持仓比例\n",
    "        max_single_trade_pct: 单笔交易最大比例\n",
    "        account: 交易账户，如果为None则自动获取\n",
    "        client: 交易客户端，如果为None则自动获取\n",
    "    \"\"\"\n",
    "    # 获取交易客户端和账户\n",
    "    if client is None:\n",
    "        client = globals().get('trade_client')\n",
    "    if account is None:\n",
    "        account = globals().get('selected_account')\n",
    "    \n",
    "    if not client:\n",
    "        print(\"❌ 交易客户端未初始化，请先运行客户端初始化代码\")\n",
    "        return False\n",
    "        \n",
    "    if not account:\n",
    "        print(\"❌ 未选择账户，请先运行账户选择代码\")\n",
    "        return False\n",
    "        \n",
    "    try:\n",
    "        # 获取账户资产\n",
    "        assets = trade_client.get_assets(account=account.account)\n",
    "        if not assets:\n",
    "            print(\"❌ 无法获取资产信息\")\n",
    "            return False\n",
    "            \n",
    "        # 从summary获取总资产\n",
    "        if hasattr(assets[0], 'summary') and assets[0].summary and hasattr(assets[0].summary, 'net_liquidation'):\n",
    "            total_value = assets[0].summary.net_liquidation\n",
    "        else:\n",
    "            print(\"❌ 无法获取总资产信息\")\n",
    "            return False\n",
    "        trade_value = quantity * price\n",
    "        \n",
    "        # 检查单笔交易比例\n",
    "        single_trade_pct = trade_value / total_value\n",
    "        if single_trade_pct > max_single_trade_pct:\n",
    "            print(f\"❌ 风险检查失败: 单笔交易比例 {single_trade_pct:.2%} 超过限制 {max_single_trade_pct:.2%}\")\n",
    "            return False\n",
    "            \n",
    "        # 获取当前持仓\n",
    "        positions = trade_client.get_positions(account=account.account)\n",
    "        current_position = 0\n",
    "        \n",
    "        for position in positions:\n",
    "            if position.contract.symbol == symbol:\n",
    "                current_position = position.quantity\n",
    "                break\n",
    "                \n",
    "        # 计算交易后持仓\n",
    "        new_position_value = (current_position + quantity) * price\n",
    "        position_pct = new_position_value / total_value\n",
    "        \n",
    "        if position_pct > max_position_pct:\n",
    "            print(f\"❌ 风险检查失败: 持仓比例 {position_pct:.2%} 超过限制 {max_position_pct:.2%}\")\n",
    "            return False\n",
    "            \n",
    "        print(f\"✅ 风险检查通过:\")\n",
    "        print(f\"  单笔交易比例: {single_trade_pct:.2%}\")\n",
    "        print(f\"  交易后持仓比例: {position_pct:.2%}\")\n",
    "        return True\n",
    "        \n",
    "    except Exception as e:\n",
    "        print(f\"❌ 风险检查失败: {e}\")\n",
    "        return False\n",
    "\n",
    "# 示例风险检查\n",
    "if selected_account:\n",
    "    risk_check('AAPL', 10, 150.0)\n",
    "else:\n",
    "    print(\"⚠️ 未选择账户，跳过风险检查\")"
   ]
  },
  {
   "cell_type": "markdown",
   "metadata": {},
   "source": [
    "## 总结\n",
    "\n",
    "本Notebook演示了老虎证券API的完整功能，包括:\n",
    "\n",
    "### ✅ 已演示的功能\n",
    "1. **环境配置**: API连接和认证\n",
    "2. **行情数据**: 实时报价、K线数据、分时数据\n",
    "3. **账户管理**: 账户信息、资产查询、持仓管理\n",
    "4. **真实交易**: 限价单、市价单、订单管理\n",
    "5. **期权数据**: 期权链、期权报价\n",
    "6. **推送服务**: 实时数据推送\n",
    "7. **高级功能**: 批量交易、策略分析、风险管理\n",
    "\n",
    "### ⚠️ 重要提醒\n",
    "- 本演示包含**真实交易**操作，请谨慎使用\n",
    "- 建议先在模拟环境中测试\n",
    "- 交易前请确保充分理解风险\n",
    "- 遵守相关法律法规和交易规则\n",
    "\n",
    "### 📚 参考资料\n",
    "- [老虎证券API文档](https://quant.itiger.com/openapi)\n",
    "- [API接口整理文档](../老虎证券API接口整理.md)\n",
    "- [数据获取工具](../data_fetcher.py)"
   ]
  },
  {
   "cell_type": "markdown",
   "metadata": {},
   "source": [
    "## 使用说明\n",
    "\n",
    "### 1. 环境准备\n",
    "```bash\n",
    "# 安装依赖\n",
    "pip install tigeropen pandas numpy\n",
    "```\n",
    "\n",
    "### 2. 配置文件\n",
    "确保以下文件存在并正确配置:\n",
    "- `../config/tiger_openapi_config.properties`\n",
    "- `../config/private_key.pem`\n",
    "\n",
    "### 3. 运行步骤\n",
    "1. 按顺序执行每个cell\n",
    "2. 仔细阅读每个操作的说明\n",
    "3. 真实交易前请三思而后行\n",
    "4. 建议先用小额资金测试\n",
    "\n",
    "### 4. 安全建议\n",
    "- 不要在生产环境中运行未经测试的代码\n",
    "- 设置合理的风险控制参数\n",
    "- 定期检查账户状态\n",
    "- 保护好API密钥和私钥文件"
   ]
  }
 ],
 "metadata": {
  "kernelspec": {
   "display_name": ".venv",
   "language": "python",
   "name": "python3"
  },
  "language_info": {
   "codemirror_mode": {
    "name": "ipython",
    "version": 3
   },
   "file_extension": ".py",
   "mimetype": "text/x-python",
   "name": "python",
   "nbconvert_exporter": "python",
   "pygments_lexer": "ipython3",
   "version": "3.12.3"
  }
 },
 "nbformat": 4,
 "nbformat_minor": 4
}
